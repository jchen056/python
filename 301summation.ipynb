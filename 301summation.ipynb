{
  "nbformat": 4,
  "nbformat_minor": 0,
  "metadata": {
    "colab": {
      "name": "summation.ipynb",
      "provenance": [],
      "collapsed_sections": [
        "gXypw-mqcNCo",
        "VI1cGyEobCWG",
        "qsdhNxgQczjQ"
      ]
    },
    "kernelspec": {
      "name": "python3",
      "display_name": "Python 3"
    },
    "language_info": {
      "name": "python"
    }
  },
  "cells": [
    {
      "cell_type": "markdown",
      "source": [
        "#**Intro:**:\n",
        "\n",
        "1.**libary used**\n",
        "\n",
        "2.**sample code** "
      ],
      "metadata": {
        "id": "gXypw-mqcNCo"
      }
    },
    {
      "cell_type": "code",
      "execution_count": null,
      "metadata": {
        "id": "_kWi0jrGKJRo"
      },
      "outputs": [],
      "source": [
        "# import libraries\n",
        "import numpy as np\n",
        "import random\n",
        "import math \n",
        "import time\n",
        "import pandas as pd\n",
        "import matplotlib.pyplot as plt"
      ]
    },
    {
      "cell_type": "markdown",
      "source": [
        "**sample code** downloaded from BB"
      ],
      "metadata": {
        "id": "hKjoEupSSwSI"
      }
    },
    {
      "cell_type": "code",
      "source": [
        "# generate array of numbers; sample code\n",
        "start_time = time.time()\n",
        "\n",
        "nexp = 7\n",
        "nsums = 10**nexp#the size of the array: 10^7\n",
        "\n",
        "x = np.zeros(nsums)\n",
        "\n",
        "id = 23903397         # use your student id number here.\n",
        "random.seed(id)\n",
        "id10 = id/10**10\n",
        "\n",
        "for i in range(nsums):\n",
        "    x[i] = random.uniform(0.,2.) + id10\n",
        "    \n",
        "end_time = time.time()\n",
        "print (end_time-start_time)"
      ],
      "metadata": {
        "colab": {
          "base_uri": "https://localhost:8080/"
        },
        "id": "MX7D8PWXKN5y",
        "outputId": "85516b02-1b38-4c32-a4d4-af1dcb57d8ec"
      },
      "execution_count": null,
      "outputs": [
        {
          "output_type": "stream",
          "name": "stdout",
          "text": [
            "9.377112627029419\n"
          ]
        }
      ]
    },
    {
      "cell_type": "markdown",
      "source": [
        "# Calculating sum of array using different methods\n",
        "\n",
        "1. **array_generator**: generate arrays of various sizes 10^5, 10^6, and 10^7\n",
        "2.**math.fsum**\n",
        "3.**numpy.sum**\n",
        "4.**Naïve summation** \n",
        "5.**Compensated summation** "
      ],
      "metadata": {
        "id": "VI1cGyEobCWG"
      }
    },
    {
      "cell_type": "markdown",
      "source": [
        "**Array Generator**: take a value n as input and generate an array of size 10^n"
      ],
      "metadata": {
        "id": "gtaQTQutjzdk"
      }
    },
    {
      "cell_type": "code",
      "source": [
        "def array_generator(n):#n is the exponent; 10^n is the number of pseudo numbers the array will contain\n",
        "  N=10**n#the size of the array\n",
        "  x = np.zeros(N)\n",
        "\n",
        "  id = 23903397 \n",
        "  random.seed(id)\n",
        "  id10 = id/10**10\n",
        "\n",
        "  for i in range(N):\n",
        "    x[i]=random.uniform(0,2)+id10\n",
        "  \n",
        "  return x\n",
        "\n",
        "X5=array_generator(5)#array of 10^5 pseudo-random numbers\n",
        "X6=array_generator(6)#array of 10^6 pseudo-random numbers\n",
        "X7=array_generator(7)#array of 10^7 pseudo-random numbers"
      ],
      "metadata": {
        "id": "3hHb0k8FvJY9"
      },
      "execution_count": null,
      "outputs": []
    },
    {
      "cell_type": "markdown",
      "source": [
        "**math.fsum:** calculations for arrays of size 10^5, 10^6, and 10^7 and time it takes"
      ],
      "metadata": {
        "id": "jD2XvUw486wp"
      }
    },
    {
      "cell_type": "code",
      "source": [
        "def fsum1(x):\n",
        "  start_time = time.time()\n",
        "  s1=math.fsum(x)\n",
        "  end_time = time.time()\n",
        "  return s1,end_time-start_time\n",
        "\n",
        "s11,t11=fsum1(X5)#first number refers to method and the sec number refers to array1,2,3\n",
        "print(\"fsum of array 10^5:\",s11)\n",
        "print(\"time it takes for 10^5:\",t11)\n",
        "print()\n",
        "\n",
        "s12,t12=fsum1(X6)\n",
        "print(\"fsum of array 10^6:\",s12)\n",
        "print(\"time it takes for 10^6:\",t12)\n",
        "print()\n",
        "\n",
        "s13,t13=fsum1(X7)\n",
        "print(\"fsum of array 10^7:\",s13)\n",
        "print(\"time it takes for 10^7:\",t13)\n",
        "print()\n",
        "\n",
        "def rep_sum1(n,X):\n",
        "  s=np.zeros(n)\n",
        "  t=np.zeros(n)\n",
        "  for i in range(n):\n",
        "    s[i],t[i]=fsum1(X)\n",
        "  return s,t\n",
        "\n",
        "#to calculate runtime several times\n",
        "a=20#number of times you want to run the code\n",
        "S11,T11=rep_sum1(a,X5)\n",
        "S12,T12=rep_sum1(a,X6)\n",
        "S13,T13=rep_sum1(a,X7)\n",
        "\n",
        "x=np.arange(a)\n",
        "#subplots() function in pyplot module of matplotlib library is used to create a figure and a set of subplots.\n",
        "fig, (ax1,ax2,ax3) = plt.subplots(nrows=1,ncols=3,sharey=True)\n",
        "ax1.plot(x,T11,'bo')\n",
        "ax1.set_title(\"array of size 10^5\")\n",
        "ax2.plot(x,T12,'go')\n",
        "ax2.set_title(\"array of size 10^6\")\n",
        "ax3.plot(x,T13,'r+')\n",
        "ax3.set_title(\"array of size 10^7\")\n",
        "fig.suptitle(\"time it takes to calculate the fsum\")\n",
        "plt.show()\n",
        "\n",
        "def plt_time(a,T1,T2,T3,tl):\n",
        "  x=np.arange(a)\n",
        "  fig, (ax1,ax2,ax3) = plt.subplots(nrows=1,ncols=3,sharey=True)\n",
        "  ax1.plot(x,T1,'bo')\n",
        "  ax1.set_title(\"array of size 10^5\")\n",
        "\n",
        "  ax2.plot(x,T2,'go')\n",
        "  ax2.set_title(\"array of size 10^6\")\n",
        "\n",
        "  ax3.plot(x,T3,'r+')\n",
        "  ax3.set_title(\"array of size 10^7\")\n",
        "\n",
        "  fig.suptitle(tl)\n",
        "  plt.show()\n",
        "\n",
        "at11=np.average(T11)\n",
        "at12=np.average(T12)\n",
        "at13=np.average(T13)\n",
        "print(\"avg time to compute fsum of array of 10^5:\",at11)\n",
        "print(\"avg time to compute fsum of array of 10^6:\",at12)\n",
        "print(\"avg time to compute fsum of array of 10^7:\",at13)"
      ],
      "metadata": {
        "colab": {
          "base_uri": "https://localhost:8080/",
          "height": 502
        },
        "id": "ESJfVX9ZwAge",
        "outputId": "9d43ea96-bd5c-4fa6-ae57-a947caacbf28"
      },
      "execution_count": null,
      "outputs": [
        {
          "output_type": "stream",
          "name": "stdout",
          "text": [
            "fsum of array 10^5: 100336.70524134363\n",
            "time it takes for 10^5: 0.009404897689819336\n",
            "\n",
            "fsum of array 10^6: 1002802.3158552684\n",
            "time it takes for 10^6: 0.07551717758178711\n",
            "\n",
            "fsum of array 10^7: 10022701.996461669\n",
            "time it takes for 10^7: 0.7662992477416992\n",
            "\n"
          ]
        },
        {
          "output_type": "display_data",
          "data": {
            "image/png": "[encoded data removed]",
            "text/plain": [
              "<Figure size 432x288 with 3 Axes>"
            ]
          },
          "metadata": {
            "needs_background": "light"
          }
        },
        {
          "output_type": "stream",
          "name": "stdout",
          "text": [
            "avg time to compute fsum of array of 10^5: 0.008759307861328124\n",
            "avg time to compute fsum of array of 10^6: 0.07556625604629516\n",
            "avg time to compute fsum of array of 10^7: 0.7531023740768432\n"
          ]
        }
      ]
    },
    {
      "cell_type": "markdown",
      "source": [
        "\n",
        "\n",
        "```\n",
        "# As the size of the array increases(10^5,10^6,and 10^7), the amount of time to compute fsum increases, \n",
        "which is also the case for numpy.sum, naive sum, and compensated sum.\n",
        "```\n",
        "\n"
      ],
      "metadata": {
        "id": "_E2feFai21C8"
      }
    },
    {
      "cell_type": "markdown",
      "source": [
        "**numpy.sum:** calculations for arrays of size 10^5, 10^6, and 10^7 and time it takes"
      ],
      "metadata": {
        "id": "0e0u4O3z9YiR"
      }
    },
    {
      "cell_type": "code",
      "source": [
        "from re import T\n",
        "def nsum(x):\n",
        "  start_time = time.time()\n",
        "  s=np.sum(x)\n",
        "  end_time = time.time()\n",
        "  return s,end_time-start_time\n",
        "\n",
        "s21,t21=nsum(X5)\n",
        "print(\"numpy sum of array 10^5:\",s21)\n",
        "print(\"time it takes for 10^5:\",t21)\n",
        "print()\n",
        "\n",
        "s22,t22=nsum(X6)\n",
        "print(\"numpy sum of array 10^6:\",s22)\n",
        "print(\"time it takes for 10^6:\",t22)\n",
        "print()\n",
        "\n",
        "s23,t23=nsum(X7)\n",
        "print(\"numpy sum of array 10^7:\",s23)\n",
        "print(\"time it takes for 10^7:\",t23)\n",
        "print()\n",
        "\n",
        "def rep_sum2(n,X):\n",
        "  s=np.zeros(n)\n",
        "  t=np.zeros(n)\n",
        "  for i in range(n):\n",
        "    s[i],t[i]=nsum(X)\n",
        "  return s,t\n",
        "\n",
        "#to calculate runtime several times\n",
        "S21,T21=rep_sum2(a,X5)\n",
        "S22,T22=rep_sum2(a,X6)\n",
        "S23,T23=rep_sum2(a,X7)\n",
        "\n",
        "ttl2=\"time it takes to calculate the nsum\"\n",
        "plt_time(a,T21,T22,T23,ttl2)\n",
        "# fig1, axs = plt.subplots(nrows=1,ncols=3,sharey=True)\n",
        "# axs[0].plot(x,T21,'bo')\n",
        "# axs[0].set_title(\"array of size 10^5\")\n",
        "# axs[1].plot(x,T22,'go')\n",
        "# axs[1].set_title(\"array of size 10^6\")\n",
        "# axs[2].plot(x,T23,'r+')\n",
        "# axs[2].set_title(\"array of size 10^7\")\n",
        "# fig1.suptitle(\"time it takes to calculate the nsum\")\n",
        "# plt.show()\n",
        "\n",
        "at21=np.average(T21)\n",
        "at22=np.average(T22)\n",
        "at23=np.average(T23)\n",
        "print(\"avg time to compute nsum of array of 10^5:\",at21)\n",
        "print(\"avg time to compute nsum of array of 10^6:\",at22)\n",
        "print(\"avg time to compute nsum of array of 10^7:\",at23)"
      ],
      "metadata": {
        "colab": {
          "base_uri": "https://localhost:8080/",
          "height": 502
        },
        "id": "nmdB7WvNzBUz",
        "outputId": "e2508afe-795c-40b9-902c-a139a968684a"
      },
      "execution_count": null,
      "outputs": [
        {
          "output_type": "stream",
          "name": "stdout",
          "text": [
            "numpy sum of array 10^5: 100336.70524134363\n",
            "time it takes for 10^5: 0.00010752677917480469\n",
            "\n",
            "numpy sum of array 10^6: 1002802.3158552685\n",
            "time it takes for 10^6: 0.0007536411285400391\n",
            "\n",
            "numpy sum of array 10^7: 10022701.996461675\n",
            "time it takes for 10^7: 0.00667262077331543\n",
            "\n"
          ]
        },
        {
          "output_type": "display_data",
          "data": {
            "image/png": "[encoded data removed]",
            "text/plain": [
              "<Figure size 432x288 with 3 Axes>"
            ]
          },
          "metadata": {
            "needs_background": "light"
          }
        },
        {
          "output_type": "stream",
          "name": "stdout",
          "text": [
            "avg time to compute nsum of array of 10^5: 0.0001524209976196289\n",
            "avg time to compute nsum of array of 10^6: 0.0004130363464355469\n",
            "avg time to compute nsum of array of 10^7: 0.006899690628051758\n"
          ]
        }
      ]
    },
    {
      "cell_type": "markdown",
      "source": [
        "**naive summation**: calculations for arrays of size 10^5,10^6, and 10^7 and the times it takes"
      ],
      "metadata": {
        "id": "bvz32vJo-L2B"
      }
    },
    {
      "cell_type": "code",
      "source": [
        "def naive_sum(x):\n",
        "  start_time = time.time()\n",
        "  s=0\n",
        "  for i in range(len(x)):\n",
        "    s=s+x[i]\n",
        "  end_time = time.time()\n",
        "  return s,end_time-start_time\n",
        "\n",
        "s31,t31=naive_sum(X5)\n",
        "print(\"naive sum of array 10^5:\",s31)\n",
        "print(\"time it takes for 10^5:\",t31)\n",
        "print()\n",
        "\n",
        "s32,t32=naive_sum(X6)\n",
        "print(\"naive sum of array 10^6:\",s32)\n",
        "print(\"time it takes for 10^6:\",t32)\n",
        "print()\n",
        "\n",
        "s33,t33=naive_sum(X7)\n",
        "print(\"naive sum of array 10^7:\",s33)\n",
        "print(\"time it takes for 10^7:\",t33)\n",
        "print()\n",
        "\n",
        "def rep_sum3(n,X):\n",
        "  s=np.zeros(n)\n",
        "  t=np.zeros(n)\n",
        "  for i in range(n):\n",
        "    s[i],t[i]=naive_sum(X)\n",
        "  return s,t\n",
        "\n",
        "#to calculate runtime several times\n",
        "S31,T31=rep_sum3(a,X5)\n",
        "S32,T32=rep_sum3(a,X6)\n",
        "S33,T33=rep_sum3(a,X7)\n",
        "\n",
        "# fig, (axs1,axs2,axs3) = plt.subplots(nrows=1,ncols=3,sharey=True)\n",
        "# axs1.plot(x,T31,'bo')\n",
        "# axs1.set_title(\"array of size 10^5\")\n",
        "# axs2.plot(x,T32,'go')\n",
        "# axs2.set_title(\"array of size 10^6\")\n",
        "# axs3.plot(x,T33,'r+')\n",
        "# axs3.set_title(\"array of size 10^7\")\n",
        "# fig.suptitle(\"time it takes to calculate the naive sum\")\n",
        "# plt.show()\n",
        "ttl3=\"time it takes to calculate the naive sum\"\n",
        "plt_time(a,T31,T32,T33,ttl3)\n",
        "\n",
        "at31=np.average(T31)\n",
        "at32=np.average(T32)\n",
        "at33=np.average(T33)\n",
        "print(\"avg time to compute naive-sum of array of 10^5:\",at31)\n",
        "print(\"avg time to compute naive-sum of array of 10^6:\",at32)\n",
        "print(\"avg time to compute naive-sum of array of 10^7:\",at33)"
      ],
      "metadata": {
        "colab": {
          "base_uri": "https://localhost:8080/",
          "height": 502
        },
        "id": "Xm98G1FR0V2o",
        "outputId": "7959189b-2354-4770-88ef-85baeecdcd89"
      },
      "execution_count": null,
      "outputs": [
        {
          "output_type": "stream",
          "name": "stdout",
          "text": [
            "naive sum of array 10^5: 100336.70524134315\n",
            "time it takes for 10^5: 0.020545005798339844\n",
            "\n",
            "naive sum of array 10^6: 1002802.3158552414\n",
            "time it takes for 10^6: 0.16953563690185547\n",
            "\n",
            "naive sum of array 10^7: 10022701.996461766\n",
            "time it takes for 10^7: 1.7815711498260498\n",
            "\n"
          ]
        },
        {
          "output_type": "display_data",
          "data": {
            "image/png": "[encoded data removed]",
            "text/plain": [
              "<Figure size 432x288 with 3 Axes>"
            ]
          },
          "metadata": {
            "needs_background": "light"
          }
        },
        {
          "output_type": "stream",
          "name": "stdout",
          "text": [
            "avg time to compute naive-sum of array of 10^5: 0.016555643081665038\n",
            "avg time to compute naive-sum of array of 10^6: 0.1653239607810974\n",
            "avg time to compute naive-sum of array of 10^7: 1.6511386156082153\n"
          ]
        }
      ]
    },
    {
      "cell_type": "markdown",
      "source": [
        "**compensated summation**: calculations for arrays of size 10^5,10^6, and 10^7 and the times it takes"
      ],
      "metadata": {
        "id": "kgHx8fMT_zT9"
      }
    },
    {
      "cell_type": "code",
      "source": [
        "def compensated_s(X):\n",
        "  start_time = time.time()\n",
        "  s=0\n",
        "  e=0\n",
        "  for i in range(len(X)):\n",
        "    temp=s\n",
        "    y=X[i]+e\n",
        "    s=temp+y\n",
        "    e=(temp-s)+y\n",
        "  s+=e\n",
        "  end_time = time.time()\n",
        "  return s,end_time-start_time\n",
        "\n",
        "s41,t41=compensated_s(X5)\n",
        "print(\"compensated sum of array 10^5:\",s41)\n",
        "print(\"time it takes for 10^5:\",t41)\n",
        "print()\n",
        "\n",
        "s42,t42=compensated_s(X6)\n",
        "print(\"compensated sum of array 10^6:\",s42)\n",
        "print(\"time it takes for 10^6:\",t42)\n",
        "print()\n",
        "\n",
        "s43,t43=compensated_s(X7)\n",
        "print(\"compensated sum of array 10^7:\",s43)\n",
        "print(\"time it takes for 10^7:\",t43)\n",
        "print()\n",
        "\n",
        "def rep_sum4(n,X):\n",
        "  s=np.zeros(n)\n",
        "  t=np.zeros(n)\n",
        "  for i in range(n):\n",
        "    s[i],t[i]=compensated_s(X)\n",
        "  return s,t\n",
        "\n",
        "#to calculate runtime several times\n",
        "S41,T41=rep_sum4(a,X5)\n",
        "S42,T42=rep_sum4(a,X6)\n",
        "S43,T43=rep_sum4(a,X7)\n",
        "\n",
        "# fig, (axs1,axs2,axs3) = plt.subplots(nrows=1,ncols=3,sharey=True)\n",
        "# axs1.plot(x,T41,'bo')\n",
        "# axs1.set_title(\"array of size 10^5\")\n",
        "# axs2.plot(x,T42,'go')\n",
        "# axs2.set_title(\"array of size 10^6\")\n",
        "# axs3.plot(x,T43,'r+')\n",
        "# axs3.set_title(\"array of size 10^7\")\n",
        "# fig.suptitle(\"time it takes to calculate the compensated sum\")\n",
        "# plt.show()\n",
        "ttl4=\"time it takes to calculate the compensated sum\"\n",
        "plt_time(a,T41,T42,T43,ttl4)\n",
        "\n",
        "at41=np.average(T41)\n",
        "at42=np.average(T42)\n",
        "at43=np.average(T43)\n",
        "print(\"avg time to compute compensated-sum of array of 10^5:\",at41)\n",
        "print(\"avg time to compute compensated-sum of array of 10^5:\",at42)\n",
        "print(\"avg time to compute compensated-sum of array of 10^5:\",at43)"
      ],
      "metadata": {
        "colab": {
          "base_uri": "https://localhost:8080/",
          "height": 502
        },
        "id": "q660EEni0_3a",
        "outputId": "026accbe-d8f3-4b5c-c040-ed119ab902b8"
      },
      "execution_count": null,
      "outputs": [
        {
          "output_type": "stream",
          "name": "stdout",
          "text": [
            "compensated sum of array 10^5: 100336.70524134363\n",
            "time it takes for 10^5: 0.04355192184448242\n",
            "\n",
            "compensated sum of array 10^6: 1002802.3158552684\n",
            "time it takes for 10^6: 0.5117526054382324\n",
            "\n",
            "compensated sum of array 10^7: 10022701.996461669\n",
            "time it takes for 10^7: 4.004842281341553\n",
            "\n"
          ]
        },
        {
          "output_type": "display_data",
          "data": {
            "image/png": "[encoded data removed]",
            "text/plain": [
              "<Figure size 432x288 with 3 Axes>"
            ]
          },
          "metadata": {
            "needs_background": "light"
          }
        },
        {
          "output_type": "stream",
          "name": "stdout",
          "text": [
            "avg time to compute compensated-sum of array of 10^5: 0.0397397518157959\n",
            "avg time to compute compensated-sum of array of 10^5: 0.3783599615097046\n",
            "avg time to compute compensated-sum of array of 10^5: 3.9735554695129394\n"
          ]
        }
      ]
    },
    {
      "cell_type": "markdown",
      "source": [
        "# **Analysis of various methods**\n",
        "(compute absolute errors, relative errors, and runtime of various summation methods)\n",
        "\n",
        "1.array of size 10^5\n",
        "\n",
        "2.array of size 10^6\n",
        "\n",
        "3.array of size 10^7\n",
        "\n",
        "***Trends detected:*** (1) ***in terms of runtime***, numpy.sum(least amount of time)<fsum<naive-sum<compensated sum(most amount of time) **see explanation/reasons in the text boxes**\n",
        "\n",
        "(2)***in terms of accuracy(rel err)***, fsum(the exact value)>compensated-sum(order-indepedent)>numpy-sum>naive-sum(least accurate; order-dependent) **see the discussion in the text boxes**"
      ],
      "metadata": {
        "id": "qsdhNxgQczjQ"
      }
    },
    {
      "cell_type": "markdown",
      "source": [
        "**array of size 10^5**: absolute and relative errors, time it takes for various methods"
      ],
      "metadata": {
        "id": "9BYXzwSSAjRS"
      }
    },
    {
      "cell_type": "code",
      "source": [
        "md=['fsum','numpy.sum','naive_sum','compensated_sum']\n",
        "s5=[s11,s21,s31,s41]\n",
        "zip_s5=zip(md,s5)\n",
        "d5=dict(zip_s5)\n",
        "print(\"the sums for the array of size 10^5:\\n\",d5)\n",
        "\n",
        "#Assume (and it’s only an assumption) that using math.fsum gets you exact result\n",
        "df5=pd.DataFrame(np.zeros((4,4)),['fsum','numpy.sum','naive_sum','compensated_sum'],['value','exact result','abs error','rel error%'])\n",
        "df5.at['fsum','value']=s11\n",
        "df5.at['numpy.sum','value']=s21\n",
        "df5.at['naive_sum','value']=s31\n",
        "df5.at['compensated_sum','value']=s41\n",
        "#update the value of a row with respect to columns\n",
        "df5.loc[['fsum','numpy.sum','naive_sum','compensated_sum'],['exact result']]=s11\n",
        "df5['abs error']=abs(df5['exact result']-df5['value'])\n",
        "df5['rel error%']=df5['abs error']/df5['value']*100\n",
        "\n",
        "AT5=[at11,at21,at31,at41]\n",
        "fig,axs=plt.subplots(2,sharex=True)\n",
        "axs[0].plot(md,AT5,'bo')\n",
        "axs[0].set_xlabel(\"summation methodology\")\n",
        "axs[0].set_ylabel(\"time it takes\")\n",
        "axs[1].plot(md,df5['rel error%'],'go')\n",
        "axs[1].set_xlabel(\"summation methodology\")\n",
        "axs[1].set_ylabel(\"relative error in terms of %\")\n",
        "fig.suptitle(\"array of size 10^5\")\n",
        "plt.show()\n",
        "\n",
        "def plotting_s(X,Y1,Y2,ttl):\n",
        "  fig,axs=plt.subplots(2,sharex=True)\n",
        "  axs[0].plot(X,Y1,'bo')\n",
        "  axs[0].set_xlabel(\"summation methodology\")\n",
        "  axs[0].set_ylabel(\"time it takes\")\n",
        "\n",
        "  axs[1].plot(X,Y2,'go')\n",
        "  axs[1].set_xlabel(\"summation methodology\")\n",
        "  axs[1].set_ylabel(\"relative error in terms of %\")\n",
        "\n",
        "  fig.suptitle(ttl)\n",
        "  plt.show()\n",
        "\n",
        "df5"
      ],
      "metadata": {
        "colab": {
          "base_uri": "https://localhost:8080/",
          "height": 502
        },
        "id": "-Ftn-Atq51rt",
        "outputId": "b45ee784-c31b-48c4-8926-df900112e687"
      },
      "execution_count": null,
      "outputs": [
        {
          "output_type": "stream",
          "name": "stdout",
          "text": [
            "the sums for the array of size 10^5:\n",
            " {'fsum': 100336.70524134363, 'numpy.sum': 100336.70524134363, 'naive_sum': 100336.70524134315, 'compensated_sum': 100336.70524134363}\n"
          ]
        },
        {
          "output_type": "display_data",
          "data": {
            "image/png": "[encoded data removed]",
            "text/plain": [
              "<Figure size 432x288 with 2 Axes>"
            ]
          },
          "metadata": {
            "needs_background": "light"
          }
        },
        {
          "output_type": "execute_result",
          "data": {
            "text/html": [
              "\n",
              "  <div id=\"df-57a2cc29-f42c-44f8-80c8-0e52992c2155\">\n",
              "    <div class=\"colab-df-container\">\n",
              "      <div>\n",
              "<style scoped>\n",
              "    .dataframe tbody tr th:only-of-type {\n",
              "        vertical-align: middle;\n",
              "    }\n",
              "\n",
              "    .dataframe tbody tr th {\n",
              "        vertical-align: top;\n",
              "    }\n",
              "\n",
              "    .dataframe thead th {\n",
              "        text-align: right;\n",
              "    }\n",
              "</style>\n",
              "<table border=\"1\" class=\"dataframe\">\n",
              "  <thead>\n",
              "    <tr style=\"text-align: right;\">\n",
              "      <th></th>\n",
              "      <th>value</th>\n",
              "      <th>exact result</th>\n",
              "      <th>abs error</th>\n",
              "      <th>rel error%</th>\n",
              "    </tr>\n",
              "  </thead>\n",
              "  <tbody>\n",
              "    <tr>\n",
              "      <th>fsum</th>\n",
              "      <td>100336.705241</td>\n",
              "      <td>100336.705241</td>\n",
              "      <td>0.000000e+00</td>\n",
              "      <td>0.000000e+00</td>\n",
              "    </tr>\n",
              "    <tr>\n",
              "      <th>numpy.sum</th>\n",
              "      <td>100336.705241</td>\n",
              "      <td>100336.705241</td>\n",
              "      <td>0.000000e+00</td>\n",
              "      <td>0.000000e+00</td>\n",
              "    </tr>\n",
              "    <tr>\n",
              "      <th>naive_sum</th>\n",
              "      <td>100336.705241</td>\n",
              "      <td>100336.705241</td>\n",
              "      <td>4.802132e-10</td>\n",
              "      <td>4.786017e-13</td>\n",
              "    </tr>\n",
              "    <tr>\n",
              "      <th>compensated_sum</th>\n",
              "      <td>100336.705241</td>\n",
              "      <td>100336.705241</td>\n",
              "      <td>0.000000e+00</td>\n",
              "      <td>0.000000e+00</td>\n",
              "    </tr>\n",
              "  </tbody>\n",
              "</table>\n",
              "</div>\n",
              "      <button class=\"colab-df-convert\" onclick=\"convertToInteractive('df-57a2cc29-f42c-44f8-80c8-0e52992c2155')\"\n",
              "              title=\"Convert this dataframe to an interactive table.\"\n",
              "              style=\"display:none;\">\n",
              "        \n",
              "  <svg xmlns=\"http://www.w3.org/2000/svg\" height=\"24px\"viewBox=\"0 0 24 24\"\n",
              "       width=\"24px\">\n",
              "    <path d=\"M0 0h24v24H0V0z\" fill=\"none\"/>\n",
              "    <path d=\"M18.56 5.44l.94 2.06.94-2.06 2.06-.94-2.06-.94-.94-2.06-.94 2.06-2.06.94zm-11 1L8.5 8.5l.94-2.06 2.06-.94-2.06-.94L8.5 2.5l-.94 2.06-2.06.94zm10 10l.94 2.06.94-2.06 2.06-.94-2.06-.94-.94-2.06-.94 2.06-2.06.94z\"/><path d=\"M17.41 7.96l-1.37-1.37c-.4-.4-.92-.59-1.43-.59-.52 0-1.04.2-1.43.59L10.3 9.45l-7.72 7.72c-.78.78-.78 2.05 0 2.83L4 21.41c.39.39.9.59 1.41.59.51 0 1.02-.2 1.41-.59l7.78-7.78 2.81-2.81c.8-.78.8-2.07 0-2.86zM5.41 20L4 18.59l7.72-7.72 1.47 1.35L5.41 20z\"/>\n",
              "  </svg>\n",
              "      </button>\n",
              "      \n",
              "  <style>\n",
              "    .colab-df-container {\n",
              "      display:flex;\n",
              "      flex-wrap:wrap;\n",
              "      gap: 12px;\n",
              "    }\n",
              "\n",
              "    .colab-df-convert {\n",
              "      background-color: #E8F0FE;\n",
              "      border: none;\n",
              "      border-radius: 50%;\n",
              "      cursor: pointer;\n",
              "      display: none;\n",
              "      fill: #1967D2;\n",
              "      height: 32px;\n",
              "      padding: 0 0 0 0;\n",
              "      width: 32px;\n",
              "    }\n",
              "\n",
              "    .colab-df-convert:hover {\n",
              "      background-color: #E2EBFA;\n",
              "      box-shadow: 0px 1px 2px rgba(60, 64, 67, 0.3), 0px 1px 3px 1px rgba(60, 64, 67, 0.15);\n",
              "      fill: #174EA6;\n",
              "    }\n",
              "\n",
              "    [theme=dark] .colab-df-convert {\n",
              "      background-color: #3B4455;\n",
              "      fill: #D2E3FC;\n",
              "    }\n",
              "\n",
              "    [theme=dark] .colab-df-convert:hover {\n",
              "      background-color: #434B5C;\n",
              "      box-shadow: 0px 1px 3px 1px rgba(0, 0, 0, 0.15);\n",
              "      filter: drop-shadow(0px 1px 2px rgba(0, 0, 0, 0.3));\n",
              "      fill: #FFFFFF;\n",
              "    }\n",
              "  </style>\n",
              "\n",
              "      <script>\n",
              "        const buttonEl =\n",
              "          document.querySelector('#df-57a2cc29-f42c-44f8-80c8-0e52992c2155 button.colab-df-convert');\n",
              "        buttonEl.style.display =\n",
              "          google.colab.kernel.accessAllowed ? 'block' : 'none';\n",
              "\n",
              "        async function convertToInteractive(key) {\n",
              "          const element = document.querySelector('#df-57a2cc29-f42c-44f8-80c8-0e52992c2155');\n",
              "          const dataTable =\n",
              "            await google.colab.kernel.invokeFunction('convertToInteractive',\n",
              "                                                     [key], {});\n",
              "          if (!dataTable) return;\n",
              "\n",
              "          const docLinkHtml = 'Like what you see? Visit the ' +\n",
              "            '<a target=\"_blank\" href=https://colab.research.google.com/notebooks/data_table.ipynb>data table notebook</a>'\n",
              "            + ' to learn more about interactive tables.';\n",
              "          element.innerHTML = '';\n",
              "          dataTable['output_type'] = 'display_data';\n",
              "          await google.colab.output.renderOutput(dataTable, element);\n",
              "          const docLink = document.createElement('div');\n",
              "          docLink.innerHTML = docLinkHtml;\n",
              "          element.appendChild(docLink);\n",
              "        }\n",
              "      </script>\n",
              "    </div>\n",
              "  </div>\n",
              "  "
            ],
            "text/plain": [
              "                         value   exact result     abs error    rel error%\n",
              "fsum             100336.705241  100336.705241  0.000000e+00  0.000000e+00\n",
              "numpy.sum        100336.705241  100336.705241  0.000000e+00  0.000000e+00\n",
              "naive_sum        100336.705241  100336.705241  4.802132e-10  4.786017e-13\n",
              "compensated_sum  100336.705241  100336.705241  0.000000e+00  0.000000e+00"
            ]
          },
          "metadata": {},
          "execution_count": 14
        }
      ]
    },
    {
      "cell_type": "markdown",
      "source": [
        "\n",
        "\n",
        "```\n",
        "### **In term of the amount of time required to compute the sum**, numpy.sum method is the most efficient(takes the least amount of time). \n",
        "\n",
        "It makes sense because Numpy functions are implemented in C, which is more efficient. \n",
        "\n",
        "Followed by numpy.sum, we have fsum and then naive sum and then compensated sum. \n",
        "\n",
        "It takes linear time to compute naive sum and compensated sum for an array of given size. \n",
        "\n",
        "Since naive sum has less arithmetic operations, it makes sense that naive sum is more efficient than compensated sum.\n",
        "\n",
        "Note the trend is observed for arrays of all sizes investigated for this assignment(10^5, 10^6, and 10^7).\n",
        "```\n",
        "\n"
      ],
      "metadata": {
        "id": "QKeZSWZK4wPg"
      }
    },
    {
      "cell_type": "markdown",
      "source": [
        "\n",
        "\n",
        "```\n",
        "# ***In terms of accuracy***, we assume that fsum gets us the exact result. \n",
        "\n",
        "It makes sense because the algorithm of fsum is quite convoluted, allowing us to avoid loss of precision by tracking multiple intermediate partial sums.\n",
        "\n",
        "**For the array of size 10^5**, the naive-sum is a bit off compared with the fsum(by 4.786017e-13 %). \n",
        "\n",
        "It makes sense because naive sum is order dependent. \n",
        "```\n",
        "\n"
      ],
      "metadata": {
        "id": "Wl4JJ87i7RLB"
      }
    },
    {
      "cell_type": "markdown",
      "source": [
        "**array of size 10^6**: absolute and relative errors, time it takes for various methods"
      ],
      "metadata": {
        "id": "9jWOLdtoCrvI"
      }
    },
    {
      "cell_type": "code",
      "source": [
        "s6=[s12,s22,s32,s42]\n",
        "zip_s6=zip(md,s6)\n",
        "d6=dict(zip_s6)\n",
        "print(\"the sums for the array of size 10^6:\\n\",d6)\n",
        "\n",
        "df6=pd.DataFrame(np.zeros((4,4)),['fsum','numpy.sum','naive_sum','compensated_sum'],['value','exact result','abs error','rel error%'])\n",
        "df6.loc[['fsum','numpy.sum','naive_sum','compensated_sum'],'value']=s6\n",
        "df6.loc[['fsum','numpy.sum','naive_sum','compensated_sum'],'exact result']=s12\n",
        "df6['abs error']=abs(df6['exact result']-df6['value'])\n",
        "df6['rel error%']=df6['abs error']/df6['value']*100\n",
        "\n",
        "AT6=[at12,at22,at32,at42]\n",
        "re6=df6['rel error%']\n",
        "t6=\"array of size 10^6\"\n",
        "plotting_s(md,AT6,re6,t6)\n",
        "df6"
      ],
      "metadata": {
        "colab": {
          "base_uri": "https://localhost:8080/",
          "height": 502
        },
        "id": "dcIFDP0w-RZh",
        "outputId": "0b1cd0f9-e4ce-4bdf-cf13-10371459a0f0"
      },
      "execution_count": null,
      "outputs": [
        {
          "output_type": "stream",
          "name": "stdout",
          "text": [
            "the sums for the array of size 10^6:\n",
            " {'fsum': 1002802.3158552684, 'numpy.sum': 1002802.3158552685, 'naive_sum': 1002802.3158552414, 'compensated_sum': 1002802.3158552684}\n"
          ]
        },
        {
          "output_type": "display_data",
          "data": {
            "image/png": "[encoded data removed]",
            "text/plain": [
              "<Figure size 432x288 with 2 Axes>"
            ]
          },
          "metadata": {
            "needs_background": "light"
          }
        },
        {
          "output_type": "execute_result",
          "data": {
            "text/html": [
              "\n",
              "  <div id=\"df-5fb520f8-3cfd-45a3-a014-10e228593d69\">\n",
              "    <div class=\"colab-df-container\">\n",
              "      <div>\n",
              "<style scoped>\n",
              "    .dataframe tbody tr th:only-of-type {\n",
              "        vertical-align: middle;\n",
              "    }\n",
              "\n",
              "    .dataframe tbody tr th {\n",
              "        vertical-align: top;\n",
              "    }\n",
              "\n",
              "    .dataframe thead th {\n",
              "        text-align: right;\n",
              "    }\n",
              "</style>\n",
              "<table border=\"1\" class=\"dataframe\">\n",
              "  <thead>\n",
              "    <tr style=\"text-align: right;\">\n",
              "      <th></th>\n",
              "      <th>value</th>\n",
              "      <th>exact result</th>\n",
              "      <th>abs error</th>\n",
              "      <th>rel error%</th>\n",
              "    </tr>\n",
              "  </thead>\n",
              "  <tbody>\n",
              "    <tr>\n",
              "      <th>fsum</th>\n",
              "      <td>1.002802e+06</td>\n",
              "      <td>1.002802e+06</td>\n",
              "      <td>0.000000e+00</td>\n",
              "      <td>0.000000e+00</td>\n",
              "    </tr>\n",
              "    <tr>\n",
              "      <th>numpy.sum</th>\n",
              "      <td>1.002802e+06</td>\n",
              "      <td>1.002802e+06</td>\n",
              "      <td>1.164153e-10</td>\n",
              "      <td>1.160900e-14</td>\n",
              "    </tr>\n",
              "    <tr>\n",
              "      <th>naive_sum</th>\n",
              "      <td>1.002802e+06</td>\n",
              "      <td>1.002802e+06</td>\n",
              "      <td>2.700835e-08</td>\n",
              "      <td>2.693288e-12</td>\n",
              "    </tr>\n",
              "    <tr>\n",
              "      <th>compensated_sum</th>\n",
              "      <td>1.002802e+06</td>\n",
              "      <td>1.002802e+06</td>\n",
              "      <td>0.000000e+00</td>\n",
              "      <td>0.000000e+00</td>\n",
              "    </tr>\n",
              "  </tbody>\n",
              "</table>\n",
              "</div>\n",
              "      <button class=\"colab-df-convert\" onclick=\"convertToInteractive('df-5fb520f8-3cfd-45a3-a014-10e228593d69')\"\n",
              "              title=\"Convert this dataframe to an interactive table.\"\n",
              "              style=\"display:none;\">\n",
              "        \n",
              "  <svg xmlns=\"http://www.w3.org/2000/svg\" height=\"24px\"viewBox=\"0 0 24 24\"\n",
              "       width=\"24px\">\n",
              "    <path d=\"M0 0h24v24H0V0z\" fill=\"none\"/>\n",
              "    <path d=\"M18.56 5.44l.94 2.06.94-2.06 2.06-.94-2.06-.94-.94-2.06-.94 2.06-2.06.94zm-11 1L8.5 8.5l.94-2.06 2.06-.94-2.06-.94L8.5 2.5l-.94 2.06-2.06.94zm10 10l.94 2.06.94-2.06 2.06-.94-2.06-.94-.94-2.06-.94 2.06-2.06.94z\"/><path d=\"M17.41 7.96l-1.37-1.37c-.4-.4-.92-.59-1.43-.59-.52 0-1.04.2-1.43.59L10.3 9.45l-7.72 7.72c-.78.78-.78 2.05 0 2.83L4 21.41c.39.39.9.59 1.41.59.51 0 1.02-.2 1.41-.59l7.78-7.78 2.81-2.81c.8-.78.8-2.07 0-2.86zM5.41 20L4 18.59l7.72-7.72 1.47 1.35L5.41 20z\"/>\n",
              "  </svg>\n",
              "      </button>\n",
              "      \n",
              "  <style>\n",
              "    .colab-df-container {\n",
              "      display:flex;\n",
              "      flex-wrap:wrap;\n",
              "      gap: 12px;\n",
              "    }\n",
              "\n",
              "    .colab-df-convert {\n",
              "      background-color: #E8F0FE;\n",
              "      border: none;\n",
              "      border-radius: 50%;\n",
              "      cursor: pointer;\n",
              "      display: none;\n",
              "      fill: #1967D2;\n",
              "      height: 32px;\n",
              "      padding: 0 0 0 0;\n",
              "      width: 32px;\n",
              "    }\n",
              "\n",
              "    .colab-df-convert:hover {\n",
              "      background-color: #E2EBFA;\n",
              "      box-shadow: 0px 1px 2px rgba(60, 64, 67, 0.3), 0px 1px 3px 1px rgba(60, 64, 67, 0.15);\n",
              "      fill: #174EA6;\n",
              "    }\n",
              "\n",
              "    [theme=dark] .colab-df-convert {\n",
              "      background-color: #3B4455;\n",
              "      fill: #D2E3FC;\n",
              "    }\n",
              "\n",
              "    [theme=dark] .colab-df-convert:hover {\n",
              "      background-color: #434B5C;\n",
              "      box-shadow: 0px 1px 3px 1px rgba(0, 0, 0, 0.15);\n",
              "      filter: drop-shadow(0px 1px 2px rgba(0, 0, 0, 0.3));\n",
              "      fill: #FFFFFF;\n",
              "    }\n",
              "  </style>\n",
              "\n",
              "      <script>\n",
              "        const buttonEl =\n",
              "          document.querySelector('#df-5fb520f8-3cfd-45a3-a014-10e228593d69 button.colab-df-convert');\n",
              "        buttonEl.style.display =\n",
              "          google.colab.kernel.accessAllowed ? 'block' : 'none';\n",
              "\n",
              "        async function convertToInteractive(key) {\n",
              "          const element = document.querySelector('#df-5fb520f8-3cfd-45a3-a014-10e228593d69');\n",
              "          const dataTable =\n",
              "            await google.colab.kernel.invokeFunction('convertToInteractive',\n",
              "                                                     [key], {});\n",
              "          if (!dataTable) return;\n",
              "\n",
              "          const docLinkHtml = 'Like what you see? Visit the ' +\n",
              "            '<a target=\"_blank\" href=https://colab.research.google.com/notebooks/data_table.ipynb>data table notebook</a>'\n",
              "            + ' to learn more about interactive tables.';\n",
              "          element.innerHTML = '';\n",
              "          dataTable['output_type'] = 'display_data';\n",
              "          await google.colab.output.renderOutput(dataTable, element);\n",
              "          const docLink = document.createElement('div');\n",
              "          docLink.innerHTML = docLinkHtml;\n",
              "          element.appendChild(docLink);\n",
              "        }\n",
              "      </script>\n",
              "    </div>\n",
              "  </div>\n",
              "  "
            ],
            "text/plain": [
              "                        value  exact result     abs error    rel error%\n",
              "fsum             1.002802e+06  1.002802e+06  0.000000e+00  0.000000e+00\n",
              "numpy.sum        1.002802e+06  1.002802e+06  1.164153e-10  1.160900e-14\n",
              "naive_sum        1.002802e+06  1.002802e+06  2.700835e-08  2.693288e-12\n",
              "compensated_sum  1.002802e+06  1.002802e+06  0.000000e+00  0.000000e+00"
            ]
          },
          "metadata": {},
          "execution_count": 11
        }
      ]
    },
    {
      "cell_type": "markdown",
      "source": [
        "\n",
        "\n",
        "```\n",
        "# In terms of the runtime, the trend has been discussed before.\n",
        "\n",
        "In terms of accuracy, the fsum is considered to be the exact result(the reason has been discussed before).\n",
        "\n",
        "**For the array of size 10^6**, naive_sum has the least accuracy(off fsum by 2.693288e-12 %) followed by numpy_sum(off fsum by 1.160900e-14 %). \n",
        "\n",
        "Compensated sum is performing quite well(accurate in the summation value) compared with fsum. It makes sense because compensated sum is order-independent.\n",
        "```\n",
        "\n"
      ],
      "metadata": {
        "id": "fg4pttnj-qx3"
      }
    },
    {
      "cell_type": "markdown",
      "source": [
        "**array of size 10^7**: absolute and relative errors, time it takes for various methods"
      ],
      "metadata": {
        "id": "xUThZHnaDz19"
      }
    },
    {
      "cell_type": "code",
      "source": [
        "s7=[s13,s23,s33,s43]\n",
        "zip_s7=zip(md,s7)\n",
        "d7=dict(zip_s7)\n",
        "print(\"the sums for the array of size 10^7:\\n\",d7)\n",
        "\n",
        "df7=pd.DataFrame(np.zeros((4,4)),['fsum','numpy.sum','naive_sum','compensated_sum'],['value','exact result','abs error','rel error%'])\n",
        "df7.loc[['fsum','numpy.sum','naive_sum','compensated_sum'],'value']=s7\n",
        "df7.loc[['fsum','numpy.sum','naive_sum','compensated_sum'],'exact result']=s13\n",
        "df7['abs error']=abs(df7['exact result']-df7['value'])\n",
        "df7['rel error%']=df7['abs error']/df7['value']*100\n",
        "\n",
        "AT7=[at13,at23,at33,at43]\n",
        "re7=df7['rel error%']\n",
        "t7=\"array of size 10^7\"\n",
        "plotting_s(md,AT7,re7,t7)\n",
        "df7"
      ],
      "metadata": {
        "colab": {
          "base_uri": "https://localhost:8080/",
          "height": 502
        },
        "id": "Jo8-LfbAAsa-",
        "outputId": "d6e5497a-e10c-487c-ac56-3428a1426465"
      },
      "execution_count": null,
      "outputs": [
        {
          "output_type": "stream",
          "name": "stdout",
          "text": [
            "the sums for the array of size 10^7:\n",
            " {'fsum': 10022701.996461669, 'numpy.sum': 10022701.996461675, 'naive_sum': 10022701.996461766, 'compensated_sum': 10022701.996461669}\n"
          ]
        },
        {
          "output_type": "display_data",
          "data": {
            "image/png": "[encoded data removed]",
            "text/plain": [
              "<Figure size 432x288 with 2 Axes>"
            ]
          },
          "metadata": {
            "needs_background": "light"
          }
        },
        {
          "output_type": "execute_result",
          "data": {
            "text/html": [
              "\n",
              "  <div id=\"df-f3037baf-4bf9-4fdc-b367-83a2ae5733c4\">\n",
              "    <div class=\"colab-df-container\">\n",
              "      <div>\n",
              "<style scoped>\n",
              "    .dataframe tbody tr th:only-of-type {\n",
              "        vertical-align: middle;\n",
              "    }\n",
              "\n",
              "    .dataframe tbody tr th {\n",
              "        vertical-align: top;\n",
              "    }\n",
              "\n",
              "    .dataframe thead th {\n",
              "        text-align: right;\n",
              "    }\n",
              "</style>\n",
              "<table border=\"1\" class=\"dataframe\">\n",
              "  <thead>\n",
              "    <tr style=\"text-align: right;\">\n",
              "      <th></th>\n",
              "      <th>value</th>\n",
              "      <th>exact result</th>\n",
              "      <th>abs error</th>\n",
              "      <th>rel error%</th>\n",
              "    </tr>\n",
              "  </thead>\n",
              "  <tbody>\n",
              "    <tr>\n",
              "      <th>fsum</th>\n",
              "      <td>1.002270e+07</td>\n",
              "      <td>1.002270e+07</td>\n",
              "      <td>0.000000e+00</td>\n",
              "      <td>0.000000e+00</td>\n",
              "    </tr>\n",
              "    <tr>\n",
              "      <th>numpy.sum</th>\n",
              "      <td>1.002270e+07</td>\n",
              "      <td>1.002270e+07</td>\n",
              "      <td>5.587935e-09</td>\n",
              "      <td>5.575278e-14</td>\n",
              "    </tr>\n",
              "    <tr>\n",
              "      <th>naive_sum</th>\n",
              "      <td>1.002270e+07</td>\n",
              "      <td>1.002270e+07</td>\n",
              "      <td>9.685755e-08</td>\n",
              "      <td>9.663816e-13</td>\n",
              "    </tr>\n",
              "    <tr>\n",
              "      <th>compensated_sum</th>\n",
              "      <td>1.002270e+07</td>\n",
              "      <td>1.002270e+07</td>\n",
              "      <td>0.000000e+00</td>\n",
              "      <td>0.000000e+00</td>\n",
              "    </tr>\n",
              "  </tbody>\n",
              "</table>\n",
              "</div>\n",
              "      <button class=\"colab-df-convert\" onclick=\"convertToInteractive('df-f3037baf-4bf9-4fdc-b367-83a2ae5733c4')\"\n",
              "              title=\"Convert this dataframe to an interactive table.\"\n",
              "              style=\"display:none;\">\n",
              "        \n",
              "  <svg xmlns=\"http://www.w3.org/2000/svg\" height=\"24px\"viewBox=\"0 0 24 24\"\n",
              "       width=\"24px\">\n",
              "    <path d=\"M0 0h24v24H0V0z\" fill=\"none\"/>\n",
              "    <path d=\"M18.56 5.44l.94 2.06.94-2.06 2.06-.94-2.06-.94-.94-2.06-.94 2.06-2.06.94zm-11 1L8.5 8.5l.94-2.06 2.06-.94-2.06-.94L8.5 2.5l-.94 2.06-2.06.94zm10 10l.94 2.06.94-2.06 2.06-.94-2.06-.94-.94-2.06-.94 2.06-2.06.94z\"/><path d=\"M17.41 7.96l-1.37-1.37c-.4-.4-.92-.59-1.43-.59-.52 0-1.04.2-1.43.59L10.3 9.45l-7.72 7.72c-.78.78-.78 2.05 0 2.83L4 21.41c.39.39.9.59 1.41.59.51 0 1.02-.2 1.41-.59l7.78-7.78 2.81-2.81c.8-.78.8-2.07 0-2.86zM5.41 20L4 18.59l7.72-7.72 1.47 1.35L5.41 20z\"/>\n",
              "  </svg>\n",
              "      </button>\n",
              "      \n",
              "  <style>\n",
              "    .colab-df-container {\n",
              "      display:flex;\n",
              "      flex-wrap:wrap;\n",
              "      gap: 12px;\n",
              "    }\n",
              "\n",
              "    .colab-df-convert {\n",
              "      background-color: #E8F0FE;\n",
              "      border: none;\n",
              "      border-radius: 50%;\n",
              "      cursor: pointer;\n",
              "      display: none;\n",
              "      fill: #1967D2;\n",
              "      height: 32px;\n",
              "      padding: 0 0 0 0;\n",
              "      width: 32px;\n",
              "    }\n",
              "\n",
              "    .colab-df-convert:hover {\n",
              "      background-color: #E2EBFA;\n",
              "      box-shadow: 0px 1px 2px rgba(60, 64, 67, 0.3), 0px 1px 3px 1px rgba(60, 64, 67, 0.15);\n",
              "      fill: #174EA6;\n",
              "    }\n",
              "\n",
              "    [theme=dark] .colab-df-convert {\n",
              "      background-color: #3B4455;\n",
              "      fill: #D2E3FC;\n",
              "    }\n",
              "\n",
              "    [theme=dark] .colab-df-convert:hover {\n",
              "      background-color: #434B5C;\n",
              "      box-shadow: 0px 1px 3px 1px rgba(0, 0, 0, 0.15);\n",
              "      filter: drop-shadow(0px 1px 2px rgba(0, 0, 0, 0.3));\n",
              "      fill: #FFFFFF;\n",
              "    }\n",
              "  </style>\n",
              "\n",
              "      <script>\n",
              "        const buttonEl =\n",
              "          document.querySelector('#df-f3037baf-4bf9-4fdc-b367-83a2ae5733c4 button.colab-df-convert');\n",
              "        buttonEl.style.display =\n",
              "          google.colab.kernel.accessAllowed ? 'block' : 'none';\n",
              "\n",
              "        async function convertToInteractive(key) {\n",
              "          const element = document.querySelector('#df-f3037baf-4bf9-4fdc-b367-83a2ae5733c4');\n",
              "          const dataTable =\n",
              "            await google.colab.kernel.invokeFunction('convertToInteractive',\n",
              "                                                     [key], {});\n",
              "          if (!dataTable) return;\n",
              "\n",
              "          const docLinkHtml = 'Like what you see? Visit the ' +\n",
              "            '<a target=\"_blank\" href=https://colab.research.google.com/notebooks/data_table.ipynb>data table notebook</a>'\n",
              "            + ' to learn more about interactive tables.';\n",
              "          element.innerHTML = '';\n",
              "          dataTable['output_type'] = 'display_data';\n",
              "          await google.colab.output.renderOutput(dataTable, element);\n",
              "          const docLink = document.createElement('div');\n",
              "          docLink.innerHTML = docLinkHtml;\n",
              "          element.appendChild(docLink);\n",
              "        }\n",
              "      </script>\n",
              "    </div>\n",
              "  </div>\n",
              "  "
            ],
            "text/plain": [
              "                        value  exact result     abs error    rel error%\n",
              "fsum             1.002270e+07  1.002270e+07  0.000000e+00  0.000000e+00\n",
              "numpy.sum        1.002270e+07  1.002270e+07  5.587935e-09  5.575278e-14\n",
              "naive_sum        1.002270e+07  1.002270e+07  9.685755e-08  9.663816e-13\n",
              "compensated_sum  1.002270e+07  1.002270e+07  0.000000e+00  0.000000e+00"
            ]
          },
          "metadata": {},
          "execution_count": 12
        }
      ]
    },
    {
      "cell_type": "markdown",
      "source": [
        "\n",
        "\n",
        "```\n",
        "# **In terms of time**, similar trend is observed.\n",
        "\n",
        "**In terms of accuracy**, fsum is assumed to yield us exact result(most accurate). \n",
        "\n",
        "**For the array of size 10^7**, the naive-sum is the least accurate, which is also the case for size 10^5 and 10^6(\"order dependent\"),\n",
        "\n",
        "while the compensated-sum is the top performer(the most accurate;\"order-independent\").\n",
        "\n",
        "```\n",
        "\n"
      ],
      "metadata": {
        "id": "_tKjSU7KBk6a"
      }
    },
    {
      "cell_type": "markdown",
      "source": [
        "#**Conclusion(Visualizations) and Future Research**:\n",
        "\n",
        "Detailed discussion of accuracy and time for various summation methodologies can be found in \"Analysis of various methods\" section. In this section, you are **mostly likely to see some visualizations** and hope you can be inspired.\n",
        "\n",
        "Here is a brief overview for previous sections:\n",
        "\n",
        "(1) ***in terms of runtime***, numpy.sum(least amount of time, implemented in c, efficient)<fsum<naive-sum(linear, less arithmetic operations)<compensated sum(most amount of time, more arithmetic operations)\n",
        "\n",
        "(2)***in terms of accuracy(relative err)***, fsum(the exact value, complex algorithms,tracking multiple intermediate partial sums)>compensated-sum(order-indepedent)>numpy-sum>naive-sum(least accurate; order-dependent)\n",
        "\n",
        "**Additional takeaways**(common sense): as the size of the array of increases, the time required to compute sum using either method increases.(see graphs \"Calculating sum of array using different methods\" or \"Conclusion(Visualizations) and Future Research\" section). And the relationship seem to be linear(see \"Conclusion(Visualizations) and Future Research\")\n",
        "\n",
        "**Future research(kind of offtopic for this assignment)**: (1)Does the size of the array have an impact on the accuracy? If so, how does the size of the array impact the accuracy? "
      ],
      "metadata": {
        "id": "yVmNAIpQOHCm"
      }
    },
    {
      "cell_type": "code",
      "source": [
        "md1=[1,2,3,4]#1 for math.fsum, 2 for numpy.sum, 3 for Naïve summation, and 4 for Compensated summation \n",
        "fig,axs=plt.subplots(nrows=2,ncols=3,sharey='row',sharex='col')\n",
        "axs[0,0].plot(md1,AT5,'bo')\n",
        "axs[0,0].set_ylabel(\"time for sum computation\")\n",
        "axs[0,0].set_title(\"array of size 10^5\")\n",
        "\n",
        "axs[0,1].plot(md1,AT6,'bo')\n",
        "axs[0,1].set_title(\"10^6\")\n",
        "axs[0,2].plot(md1,AT7,'bo')\n",
        "axs[0,2].set_title(\"10^7\")\n",
        "\n",
        "re5=df5['rel error%']\n",
        "axs[1,0].plot(md1,re5,'go')\n",
        "axs[1,0].set_ylabel(\"rel error in %\")\n",
        "axs[1,1].plot(md1,re6,'go')\n",
        "axs[1,1].set_xlabel(\"summation methods\")\n",
        "axs[1,2].plot(md1,re7,'go')\n",
        "# set the spacing between subplots\n",
        "plt.subplots_adjust(left=0,\n",
        "                    bottom=0.05, \n",
        "                    right=1, \n",
        "                    top=0.85, \n",
        "                    wspace=0.2, \n",
        "                    hspace=0.2)\n",
        "fig.suptitle(\"summary for time and rel error of various array sizes\")\n",
        "plt.show()"
      ],
      "metadata": {
        "colab": {
          "base_uri": "https://localhost:8080/",
          "height": 330
        },
        "id": "TQUGX-7COKp6",
        "outputId": "b3435679-d8c8-4c88-c30f-60655cba2f01"
      },
      "execution_count": null,
      "outputs": [
        {
          "output_type": "display_data",
          "data": {
            "image/png": "[encoded data removed]",
            "text/plain": [
              "<Figure size 432x288 with 6 Axes>"
            ]
          },
          "metadata": {
            "needs_background": "light"
          }
        }
      ]
    },
    {
      "cell_type": "markdown",
      "source": [
        "\n",
        "\n",
        "```\n",
        "# **For x-axis(\"summation methods\") in the above graph**, 1 for math.fsum, 2 for numpy.sum, 3 for Naïve summation, and 4 for Compensated summation  \n",
        "```\n",
        "\n"
      ],
      "metadata": {
        "id": "5iG67z4rFsv1"
      }
    },
    {
      "cell_type": "code",
      "source": [
        "md=['fsum','numpy.sum','naive_sum','compensated_sum']\n",
        "RE1=[df5.at['fsum','rel error%'],df6.at['fsum','rel error%'],df7.at['fsum','rel error%']]#methods, errors from 10^5, 10^6, and 10^7\n",
        "RE2=[df5.at['numpy.sum','rel error%'],df6.at['numpy.sum','rel error%'],df7.at['numpy.sum','rel error%']]\n",
        "RE3=[df5.at['naive_sum','rel error%'],df6.at['naive_sum','rel error%'],df7.at['naive_sum','rel error%']]\n",
        "RE4=[df5.at['compensated_sum','rel error%'],df6.at['compensated_sum','rel error%'],df7.at['compensated_sum','rel error%']]\n",
        "arrsize=[10**5,10**6,10**7]\n",
        "\n",
        "plt.plot(arrsize,RE1,'bo',label=\"fsum\")\n",
        "plt.plot(arrsize,RE2,'go',label='np_sum')\n",
        "plt.plot(arrsize,RE3,'rs',label=\"naive-sum\")\n",
        "plt.plot(arrsize,RE4,'r+',label=\"compensated-sum\")\n",
        "plt.xlabel(\"array size\")\n",
        "plt.ylabel(\"relative error in %\")\n",
        "plt.legend()\n",
        "plt.title(\"relative errors for different summation methods\")\n",
        "plt.show()"
      ],
      "metadata": {
        "colab": {
          "base_uri": "https://localhost:8080/",
          "height": 295
        },
        "id": "L_23F1OZF6fH",
        "outputId": "50f63e01-0559-4de2-f776-68900712158d"
      },
      "execution_count": null,
      "outputs": [
        {
          "output_type": "display_data",
          "data": {
            "image/png": "[encoded data removed]",
            "text/plain": [
              "<Figure size 432x288 with 1 Axes>"
            ]
          },
          "metadata": {
            "needs_background": "light"
          }
        }
      ]
    },
    {
      "cell_type": "markdown",
      "source": [
        "\n",
        "\n",
        "```\n",
        "From the graph above, a pattern between relative error in % and array size is not being detected, probably due to the lack of data points. \n",
        "\n",
        "However, we can be certain that naive-sum always give us the most relative error compared with other methods.\n",
        "```\n",
        "\n"
      ],
      "metadata": {
        "id": "8tGkw4luKHg9"
      }
    },
    {
      "cell_type": "code",
      "source": [
        "TT1=[at11,at12,at13]#runtime of various array size using fsum\n",
        "TT2=[at21,at22,at23]\n",
        "TT3=[at31,at32,at33]\n",
        "TT4=[at41,at42,at43]\n",
        "\n",
        "plt.plot(arrsize,TT1,'bo--',label=\"fsum\",)\n",
        "plt.plot(arrsize,TT2,'go--',label='np_sum')\n",
        "plt.plot(arrsize,TT3,'rs--',label=\"naive-sum\")\n",
        "plt.plot(arrsize,TT4,'r+--',label=\"compensated-sum\")\n",
        "plt.xlabel(\"array size\")\n",
        "plt.ylabel(\"runtime\")\n",
        "plt.legend()\n",
        "plt.title(\"runtime for different summation methods\")\n",
        "plt.show()"
      ],
      "metadata": {
        "colab": {
          "base_uri": "https://localhost:8080/",
          "height": 295
        },
        "id": "OZUr5BWcLoJJ",
        "outputId": "dc15fd25-a811-4158-ba5e-1a52539eb4a9"
      },
      "execution_count": null,
      "outputs": [
        {
          "output_type": "display_data",
          "data": {
            "image/png": "[encoded data removed]",
            "text/plain": [
              "<Figure size 432x288 with 1 Axes>"
            ]
          },
          "metadata": {
            "needs_background": "light"
          }
        }
      ]
    },
    {
      "cell_type": "markdown",
      "source": [
        "\n",
        "\n",
        "```\n",
        "# As we can see from the graph above, compensated sum is the most time-consuming, followed by naive-sum, fsum, and numpy_sum(the most efficient).\n",
        "\n",
        "In addition, we observe that runtime and arraysize have a positive linear relationship.\n",
        "```\n",
        "\n"
      ],
      "metadata": {
        "id": "eeLioKbAN6iV"
      }
    }
  ]
}
