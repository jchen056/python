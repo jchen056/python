{
  "nbformat": 4,
  "nbformat_minor": 0,
  "metadata": {
    "colab": {
      "name": "linprog.ipynb",
      "provenance": [],
      "collapsed_sections": [
        "n2yXU7zWF1Ff",
        "4SLwsgxHXpiA",
        "Ukb6JbgCBoId"
      ]
    },
    "kernelspec": {
      "name": "python3",
      "display_name": "Python 3"
    },
    "language_info": {
      "name": "python"
    }
  },
  "cells": [
    {
      "cell_type": "code",
      "execution_count": 1,
      "metadata": {
        "id": "hfuNfSnWFwrX"
      },
      "outputs": [],
      "source": [
        "import numpy as np\n",
        "from scipy.optimize import linprog\n",
        "import matplotlib.pyplot as plt\n",
        "import random\n",
        "import time\n",
        "import pandas as pd"
      ]
    },
    {
      "cell_type": "markdown",
      "source": [
        "# Intro to Linear programming (linprog)\n",
        "The function **linprog** can minimize a linear objective function subject to linear equality and inequality constraints. LP solves problems of the following form: min  $c^T x$ such that\n",
        "\n",
        "$A_{ub} \\le b_{ub}$, $A_{eq}x=b_{eq}$, $l \\le x \\le u$, where x is a vector of decision variables; c, $b_{ub}$, $b_{eq}$, l, and u are vectors; and $A_{ub}$ and $A_{eq}$ are matrices.\n",
        "\n",
        "source:\n",
        "1. https://docs.scipy.org/doc/scipy/tutorial/optimize.html#linear-programming-linprog\n",
        "2. https://colab.research.google.com/github/bebi103a/bebi103a.github.io/blob/master/lessons/00/intro_to_latex.ipynb\n"
      ],
      "metadata": {
        "id": "n2yXU7zWF1Ff"
      }
    },
    {
      "cell_type": "markdown",
      "source": [
        "**Linear programming(LP) example 1**\n",
        "\n",
        "consider the following simple LP problem:\n",
        "\n",
        "$max 29x_1+45x_2+0x_3+0x_4$ such that \n",
        "*   $x_1-x_2-3x_3\\le5$\n",
        "*   $2x_1-3x_2-7x_3+3x_4\\ge 10$ => $-2x_1+3x_2+7x_3-3x_4 \\le -10$\n",
        "------------\n",
        "*   $2x_1+8x_2+x_3=60$\n",
        "*   $4x_1+4x_2+x_4=60$\n",
        "--------------\n",
        "*   $0\\le x_0$\n",
        "*   $0 \\le x_1 \\le 5$\n",
        "*   $x_2 \\le 0.5$\n",
        "*   $-3 \\le x_3$\n",
        "\n",
        "\n",
        "\n",
        "\n",
        "\n",
        "\n",
        "\n",
        "\n",
        "\n",
        "\n",
        "\n",
        "\n"
      ],
      "metadata": {
        "id": "ThtVPAlwP7jL"
      }
    },
    {
      "cell_type": "code",
      "source": [
        "#we want to maximize the objective function, but linprog can only accept a minimization problem. \n",
        "c = np.array([-29.0, -45.0, 0.0, 0.0])#coefficient vector for the linear function\n",
        "\n",
        "#inequality constraint1: \"less than equal<= constraints\"\n",
        "A_ub = np.array([[1.0, -1.0, -3.0, 0.0],[-2.0, 3.0, 7.0, -3.0]])\n",
        "b_ub = np.array([5.0, -10.0])\n",
        "\n",
        "#inequality constraint2:\"= constraints\"\n",
        "A_eq = np.array([[2.0, 8.0, 1.0, 0.0], [4.0, 4.0, 0.0, 1.0]])\n",
        "b_eq = np.array([60.0, 60.0])\n",
        "\n",
        "\n",
        "#“box constraints” or “simple bounds”: inequality constraints on individual decision variables\n",
        "x0_bounds = (0, None)\n",
        "#meaning that the lower bound on each decision variable is 0, and the upper bound on each decision variable is infinity\n",
        "x1_bounds = (0, 6)\n",
        "x2_bounds = (-np.inf, 0.5)  # +/- np.inf can be used instead of None\n",
        "x3_bounds = (-3.0, None)\n",
        "bounds = [x0_bounds, x1_bounds, x2_bounds, x3_bounds]\n",
        "result = linprog(c, A_ub=A_ub, b_ub=b_ub, A_eq=A_eq, b_eq=b_eq, bounds=bounds, method='revised simplex')\n",
        "print(result)\n",
        "#If we need greater accuracy, typically at the expense of speed, we can solve using the revised simplex method:"
      ],
      "metadata": {
        "colab": {
          "base_uri": "https://localhost:8080/"
        },
        "id": "WoBCJNtVHBTr",
        "outputId": "5e4d8550-de58-490f-b3b6-c0a7a561aba3"
      },
      "execution_count": 2,
      "outputs": [
        {
          "output_type": "stream",
          "name": "stdout",
          "text": [
            "     con: array([0., 0.])\n",
            "     fun: -505.97435897435895\n",
            " message: 'Optimization terminated successfully.'\n",
            "     nit: 5\n",
            "   slack: array([ 8.88178420e-16, -3.55271368e-15])\n",
            "  status: 0\n",
            " success: True\n",
            "       x: array([ 9.41025641,  5.17948718, -0.25641026,  1.64102564])\n"
          ]
        }
      ]
    },
    {
      "cell_type": "markdown",
      "source": [
        "**Linear Programming example 2: **\n",
        "\n",
        "max $6x_1+8x_2+5x_3+9x_4$ <=> min $-6x_1-8x_2-5x_3-9x_4$\n",
        "\n",
        "subject to the following constraints:\n",
        "*   $2x_1+x_2+x_3+3x_4 \\le 5$\n",
        "*   $x_1+x_2+x_3+2x_4 \\le 3$\n",
        "----------\n",
        "*   $x_1,x_2,x_3,x_4 \\ge 0$\n",
        "\n",
        "\n",
        "\n"
      ],
      "metadata": {
        "id": "9AkalmboVTj2"
      }
    },
    {
      "cell_type": "code",
      "source": [
        "#maximize 6x1+8x2+5x3+9x4\n",
        "f=np.array([-6,-8,-5,-9])\n",
        "#constraints \n",
        "#(1)x1,x2,x3,x4>=0\n",
        "#(2)2x1+1x2+1x3+3x4<=5\n",
        "#(3)1x1+1x2+1x3+2x4<=3\n",
        "A_u=np.array([[2,1,1,3],[1,1,1,2]])\n",
        "b_u=np.array([5,3])\n",
        "b1=(0, None)\n",
        "b2=(0, None)\n",
        "b3=(0, None)\n",
        "b4=(0, None)\n",
        "bds=[b1,b2,b3,b3]\n",
        "res=linprog(f,A_ub=A_u,b_ub=b_u,bounds=bds)\n",
        "print(res)"
      ],
      "metadata": {
        "colab": {
          "base_uri": "https://localhost:8080/"
        },
        "id": "_XZWMUHuJEvL",
        "outputId": "578aa66a-47f1-42bb-80af-3169f99bb469"
      },
      "execution_count": 3,
      "outputs": [
        {
          "output_type": "stream",
          "name": "stdout",
          "text": [
            "     con: array([], dtype=float64)\n",
            "     fun: -24.000000022902373\n",
            " message: 'Optimization terminated successfully.'\n",
            "     nit: 4\n",
            "   slack: array([ 2.00000000e+00, -3.47540796e-09])\n",
            "  status: 0\n",
            " success: True\n",
            "       x: array([2.46119736e-10, 3.00000000e+00, 4.30285117e-10, 4.45399113e-10])\n"
          ]
        },
        {
          "output_type": "stream",
          "name": "stderr",
          "text": [
            "/usr/local/lib/python3.7/dist-packages/numpy/core/fromnumeric.py:86: VisibleDeprecationWarning: Creating an ndarray from ragged nested sequences (which is a list-or-tuple of lists-or-tuples-or ndarrays with different lengths or shapes) is deprecated. If you meant to do this, you must specify 'dtype=object' when creating the ndarray.\n",
            "  return ufunc.reduce(obj, axis, dtype, out, **passkwargs)\n"
          ]
        }
      ]
    },
    {
      "cell_type": "markdown",
      "source": [
        "LP example 3:\n",
        "\n",
        "find the max for $f(x_1,x_2)=x_1+x_2$ subject to the following constraints: <=> find min for $-x_1-x_2$\n",
        "*   $x_1,x_2 \\ge0$\n",
        "*   $x_2-x_1 \\le 1$\n",
        "*   $x_1+6x_2 \\le 15$\n",
        "*   $4x_1-x_2 \\le 10$\n",
        "\n",
        "\n",
        "\n"
      ],
      "metadata": {
        "id": "a-gvBwyjXoOr"
      }
    },
    {
      "cell_type": "code",
      "source": [
        "func1=np.array([-1,-1])#\"c\"; objective function to be minimized\n",
        "A_u1=np.array([[-1,1],[1,6],[4,-1]])#\"A_ub\"\n",
        "b_u1=np.array([1,15,10])#\"b_ub\"\n",
        "#no such constraints for \"A_eq\" and \"b_eq\"\n",
        "bounds=[b1,b2]#bounds for decision variables\n",
        "\n",
        "res=linprog(func1,A_ub=A_u1,b_ub=b_u1,bounds=bounds)#applying linprog\n",
        "print(res)"
      ],
      "metadata": {
        "colab": {
          "base_uri": "https://localhost:8080/"
        },
        "id": "O34v0p9gBtO0",
        "outputId": "a769940a-1313-41c2-a62b-d67de1b92e62"
      },
      "execution_count": 4,
      "outputs": [
        {
          "output_type": "stream",
          "name": "stdout",
          "text": [
            "     con: array([], dtype=float64)\n",
            "     fun: -4.999999999582599\n",
            " message: 'Optimization terminated successfully.'\n",
            "     nit: 4\n",
            "   slack: array([2.00000000e+00, 1.61717040e-09, 4.69835726e-10])\n",
            "  status: 0\n",
            " success: True\n",
            "       x: array([3., 2.])\n"
          ]
        },
        {
          "output_type": "stream",
          "name": "stderr",
          "text": [
            "/usr/local/lib/python3.7/dist-packages/numpy/core/fromnumeric.py:86: VisibleDeprecationWarning: Creating an ndarray from ragged nested sequences (which is a list-or-tuple of lists-or-tuples-or ndarrays with different lengths or shapes) is deprecated. If you meant to do this, you must specify 'dtype=object' when creating the ndarray.\n",
            "  return ufunc.reduce(obj, axis, dtype, out, **passkwargs)\n"
          ]
        }
      ]
    },
    {
      "cell_type": "code",
      "source": [
        "x1=np.arange(0,5,1)#x1>=0\n",
        "x2=np.arange(0,5,1)#x2>=0\n",
        "c3=1+x1#condition3: x2-x1>=0; x2=1+x1\n",
        "c4=15/6-x1/6#condition4: x1+6x2<=15; x2=(15-x1)/6\n",
        "c5=4*x1-10#condition5: 4x1-x2<=10; x2>=4x1-10\n",
        "plt.plot(x1,c3,'b',label=\"c3\",linewidth=3)\n",
        "plt.plot(x1,c4,'y',label=\"c4\",linewidth=3)\n",
        "plt.plot(x1,c5,'g',label=\"c5\",linewidth=3)\n",
        "plt.axhline(y=0, color='r',linestyle='-',label=\"x-axis\",linewidth=3)\n",
        "plt.axvline(x=0, color='r', linestyle='-', label = 'y-axis',linewidth=3)\n",
        "plt.xlim(0,5)\n",
        "plt.ylim(0,6)\n",
        "# plt.fill_between(x1,c5,c3,where=c3>c5)\n",
        "# plt.fill_between(x1,c5,c4,where=c4>c5)\n",
        "\n",
        "#x1+x2=c; max(c)=5; objective function\n",
        "y=5-x1\n",
        "plt.plot(x1,y,'c--',label=\"max\",)\n",
        "# plt.plot(x1,4-x1,'m--',label=\"possible c\")\n",
        "# plt.plot(x1,3-x1,'m--')\n",
        "# plt.plot(x1,2-x1,'m--')\n",
        "# plt.plot(x1,1-x1,'m--')\n",
        "plt.legend(loc=\"upper right\")\n",
        "\n",
        "#plot compact domain\n",
        "n=100000\n",
        "x11=np.zeros(n)\n",
        "x22=np.zeros(n)\n",
        "for i in range(0,n):\n",
        "  x11[i]=random.random()*5\n",
        "  x22[i]=random.random()*5\n",
        "px1=[]\n",
        "px2=[]\n",
        "for i in range(0,n):\n",
        "  if x22[i]-x11[i]<=1: \n",
        "    if x11[i]+6*x22[i]<=15:\n",
        "      if 4*x11[i]-x22[i]<=10:\n",
        "        px1.append(x11[i])\n",
        "        px2.append(x22[i])\n",
        "px1=np.array(px1)\n",
        "px2=np.array(px2)    \n",
        "plt.scatter(px1,px2,s=0.2,c=\"pink\")\n",
        "plt.figure(figsize=(8,8))\n",
        "# #change the background color\n",
        "# ax = plt.axes() \n",
        "# ax.set_facecolor('grey')\n"
      ],
      "metadata": {
        "colab": {
          "base_uri": "https://localhost:8080/",
          "height": 0
        },
        "id": "OYrOqBCPXp7t",
        "outputId": "39870b30-90fb-4021-a768-61ac0e81e2fe"
      },
      "execution_count": 5,
      "outputs": [
        {
          "output_type": "execute_result",
          "data": {
            "text/plain": [
              "<Figure size 576x576 with 0 Axes>"
            ]
          },
          "metadata": {},
          "execution_count": 5
        },
        {
          "output_type": "display_data",
          "data": {
            "text/plain": [
              "<Figure size 432x288 with 1 Axes>"
            ],
            "image/png": "[encoded data removed]"
          },
          "metadata": {
            "needs_background": "light"
          }
        },
        {
          "output_type": "display_data",
          "data": {
            "text/plain": [
              "<Figure size 576x576 with 0 Axes>"
            ]
          },
          "metadata": {}
        }
      ]
    },
    {
      "cell_type": "markdown",
      "source": [
        "# Application of LP: Data Fitting 1; MinMax\n",
        "\n",
        "LP has many different applications, such as nutrition, production, and politics. For this project, we will use linear optimization for data fitting. Given the data, we wish to find the straight line that “best” fits the data. \n",
        "Let $y_i$ be the ith given y-value(exact) and $a_0x_i+a_1$ denote the ith value on the approximating line. There are different approaches we can take to determine the best linear approximation.\n",
        "\n",
        "*   Absolute deviation: find values of $a_0$ and $a_1$ to minimize $E_1(a_0,a_1)=\\sum_{i=1}^{n}|y_i-(a_0x_i+a_1)|$.\n",
        "*   Minmax problem: $E_{\\infty}(a_0,a_1)=max_{1 \\le i \\le n}{|y_i-(a_0x_i+a_1)|}\n",
        "$.\n",
        "--------\n",
        "*  Linear least square error: find values of $a_0$ and $a_1$ to minimize the sum of the squares of the differences between the y-values on the approximating line and the given y-values; $E_2(a_0,a_1)=\\sum_{i=1}^{n}[y_i-(a_0x_i+a_1)]^2$.\n",
        "\n",
        "\n"
      ],
      "metadata": {
        "id": "4SLwsgxHXpiA"
      }
    },
    {
      "cell_type": "markdown",
      "source": [
        "**Generate Data**"
      ],
      "metadata": {
        "id": "YMamNeVRttbi"
      }
    },
    {
      "cell_type": "code",
      "source": [
        "random.seed(10)\n",
        "z=[random.uniform(-5,5)]#noise\n",
        "x=[random.uniform(-20,20)]#x: dependent variable\n",
        "for i in range(1,100):\n",
        "  z.append(random.uniform(-5,5))\n",
        "  x.append(random.uniform(-20,20))\n",
        "x=np.array(x)\n",
        "z=np.array(z)\n",
        "y=2*x+z+4\n",
        "plt.scatter(x,y,s=2)\n",
        "plt.xlabel(\"x\")\n",
        "plt.ylabel(\"y\")\n",
        "plt.title(\"Figure 1: data\")"
      ],
      "metadata": {
        "colab": {
          "base_uri": "https://localhost:8080/",
          "height": 0
        },
        "id": "THIFNtUkrHVP",
        "outputId": "a983d697-66a3-427c-824e-4edbd68e983f"
      },
      "execution_count": 6,
      "outputs": [
        {
          "output_type": "execute_result",
          "data": {
            "text/plain": [
              "Text(0.5, 1.0, 'Figure 1: data')"
            ]
          },
          "metadata": {},
          "execution_count": 6
        },
        {
          "output_type": "display_data",
          "data": {
            "text/plain": [
              "<Figure size 432x288 with 1 Axes>"
            ],
            "image/png": "[encoded data removed]"
          },
          "metadata": {
            "needs_background": "light"
          }
        }
      ]
    },
    {
      "cell_type": "markdown",
      "source": [
        "**MinMax**\n",
        "\n",
        "$E_{\\infty}(a_0,a_1)=max_{1 \\le i \\le n}{|y_i-(a_0x_i+a_1)|}\n",
        "=\\xi_{max} $.\n",
        "\n",
        "By the definition of the max, we have the following constraints:\n",
        "\n",
        "$|y_i-(a_0x_i+a_1)| \\le \\xi_{max}$ for i=1,2,3...n\n",
        "\n",
        "=>$-\\xi_{max} \\le y_i-(a_0x_i+a_1) \\le \\xi_{max}$\n",
        "\n",
        "given n data points, there will be 2n constraints, each pair of which will need to be written as: \n",
        "*   $a_0x_i+a_1- \\xi_{max} \\le y_i $\n",
        "*   $-a_0x_i-a_1- \\xi_{max} \\le -y_i$\n",
        "\n",
        "The unknowns here are the $a_0$, $a_1$, and $\\xi_{max}$. We want to \n",
        "\n",
        "minimize $0*a_0+0*a_1+\\xi_{max}$ such that \n",
        "\n",
        "$\\left[\n",
        "\\begin{array}{ccc}\n",
        "x_1 & 1 & -1 \\\\\n",
        "x_2 & 1 & -1\\\\\n",
        "... & .... & ...\\\\\n",
        "x_n & 1 & -1\\\\\n",
        "-x_1 & -1 & -1 \\\\\n",
        "-x_2 & -1 & -1\\\\\n",
        "... & .... & ...\\\\\n",
        "-x_n & -1 & -1\n",
        "\\end{array}\n",
        "\\right] \\left[\n",
        "\\begin{array}{ccc}\n",
        "a_0\\\\\n",
        "a_1\\\\\n",
        "\\xi_{max}\n",
        "\\end{array}\n",
        "\\right] \\le \\left[\n",
        "\\begin{array}{ccc}\n",
        "y_1 \\\\\n",
        "y_2\\\\\n",
        "...\\\\\n",
        "y_n\\\\\n",
        "-y_1 \\\\\n",
        "-y_2\\\\\n",
        "...\\\\\n",
        "-y_n\n",
        "\\end{array}\n",
        "\\right]$\n",
        "\n"
      ],
      "metadata": {
        "id": "1fXz_rZQxn_b"
      }
    },
    {
      "cell_type": "code",
      "source": [
        "ONE=np.ones(len(x))\n",
        "A_upper=np.column_stack((x,ONE))\n",
        "A_upper=np.column_stack((A_upper,-ONE))\n",
        "A_lower=np.column_stack((-x,-ONE))\n",
        "A_lower=np.column_stack((A_lower,-ONE))\n",
        "A_up=np.vstack((A_upper,A_lower))\n",
        "b_u=np.concatenate((y, -y), axis=None)\n",
        "lp1=linprog(np.array([0,0,1]),A_ub=A_up,b_ub=b_u, method='simplex',)\n",
        "# print(lp1.x)\n",
        "print(lp1)\n",
        "slp1=lp1.x[0]\n",
        "yint1=lp1.x[1]\n",
        "\n",
        "plt.scatter(x,y,label=\"data\",s=2)\n",
        "plt.plot(x,slp1*x+yint1,'r',label=\"MinMax\")\n",
        "plt.legend()\n",
        "plt.xlabel(\"x\")\n",
        "plt.ylabel(\"y\")\n",
        "plt.title(\"Figure 2: MinMax approach\")\n",
        "\n",
        "y_predicted=slp1*x+yint1\n",
        "def calculating_R(y,y1):\n",
        "  print(\"R^2 (coefficient of determinant)\")\n",
        "  corr_matrix=np.corrcoef(y,y1)\n",
        "  corr=corr_matrix[0,1]\n",
        "  R_sq=corr**2\n",
        "  print(R_sq)\n",
        "  return R_sq\n",
        "\n",
        "rs1=calculating_R(y,y_predicted)\n"
      ],
      "metadata": {
        "colab": {
          "base_uri": "https://localhost:8080/",
          "height": 0
        },
        "id": "q7AtNLWz2bdp",
        "outputId": "bf65eff2-724b-4eeb-c106-e7b20d9491b6"
      },
      "execution_count": 7,
      "outputs": [
        {
          "output_type": "stream",
          "name": "stdout",
          "text": [
            "     con: array([], dtype=float64)\n",
            "     fun: 4.9777779120534875\n",
            " message: 'Optimization terminated successfully.'\n",
            "     nit: 211\n",
            "   slack: array([ 5.68969111e+00,  5.76487965e+00,  8.09417064e+00,  6.52040110e+00,\n",
            "        5.18612648e+00,  2.45610969e+00,  9.95555582e+00,  8.57078083e+00,\n",
            "        3.79713800e+00,  6.72427247e+00,  6.82559972e+00,  1.29281693e+00,\n",
            "        9.77965794e+00,  6.12326512e+00,  2.72055773e-02,  9.39038386e+00,\n",
            "        3.61963417e+00,  3.11482838e+00,  4.34953394e+00,  5.80565731e+00,\n",
            "        1.54747764e+00,  4.11897234e+00,  4.92720200e+00,  6.55067721e+00,\n",
            "        8.53732596e+00,  5.65005865e+00,  6.00048421e+00,  7.74317348e+00,\n",
            "        1.62519695e+00,  9.45244260e+00,  4.12330747e+00,  2.71568040e+00,\n",
            "        1.77179816e+00,  4.54284892e+00,  6.44830083e+00,  7.74886962e+00,\n",
            "        3.45116080e+00,  1.51804636e-02,  3.29631622e+00,  7.74201300e-01,\n",
            "        5.80558202e+00,  8.66201156e+00,  2.38615317e+00,  9.07760433e+00,\n",
            "        6.01035579e+00,  4.86831339e+00,  3.98727895e+00,  5.82092518e+00,\n",
            "        4.88442592e+00,  4.36902008e+00,  4.14206707e+00, -8.88178420e-16,\n",
            "        4.93919805e-01,  1.06229070e+00,  9.90045299e+00,  4.56178400e+00,\n",
            "        4.98610891e+00,  7.22033965e+00,  6.95457649e+00,  6.45304663e+00,\n",
            "        1.51907585e+00,  6.15716686e+00,  6.39571901e+00,  8.26803202e+00,\n",
            "        8.03167610e+00,  4.31321124e+00,  7.14095648e+00,  4.19981735e-01,\n",
            "        7.62417198e+00,  9.79420215e+00,  6.68639526e+00,  5.90870902e+00,\n",
            "        1.89834277e+00,  7.81849749e-01,  2.06509567e+00,  9.95555582e+00,\n",
            "        4.60153452e+00,  6.92454672e+00,  4.20176983e+00,  5.53693745e+00,\n",
            "        3.61152881e+00,  6.25512531e+00,  6.05677504e+00,  8.68071644e+00,\n",
            "        6.77592020e-01,  8.79810297e-01,  2.52160327e+00,  7.56220972e+00,\n",
            "        2.79059296e+00,  5.03780452e+00,  2.61141046e+00,  3.37983276e+00,\n",
            "        4.80096436e+00,  4.74384494e+00,  6.86121066e+00,  7.98751546e+00,\n",
            "        7.89109778e+00,  9.88828767e+00,  6.14961603e-01,  8.35560782e+00,\n",
            "        4.26586472e+00,  4.19067618e+00,  1.86138519e+00,  3.43515472e+00,\n",
            "        4.76942935e+00,  7.49944614e+00, -3.55271368e-15,  1.38477500e+00,\n",
            "        6.15841782e+00,  3.23128335e+00,  3.12995610e+00,  8.66273889e+00,\n",
            "        1.75897882e-01,  3.83229070e+00,  9.92835025e+00,  5.65171965e-01,\n",
            "        6.33592165e+00,  6.84072744e+00,  5.60602189e+00,  4.14989852e+00,\n",
            "        8.40807819e+00,  5.83658349e+00,  5.02835383e+00,  3.40487861e+00,\n",
            "        1.41822986e+00,  4.30549717e+00,  3.95507161e+00,  2.21238235e+00,\n",
            "        8.33035888e+00,  5.03113229e-01,  5.83224836e+00,  7.23987543e+00,\n",
            "        8.18375766e+00,  5.41270691e+00,  3.50725500e+00,  2.20668620e+00,\n",
            "        6.50439502e+00,  9.94037536e+00,  6.65923960e+00,  9.18135452e+00,\n",
            "        4.14997381e+00,  1.29354427e+00,  7.56940265e+00,  8.77951490e-01,\n",
            "        3.94520004e+00,  5.08724244e+00,  5.96827687e+00,  4.13463064e+00,\n",
            "        5.07112990e+00,  5.58653574e+00,  5.81348875e+00,  9.95555582e+00,\n",
            "        9.46163602e+00,  8.89326512e+00,  5.51028380e-02,  5.39377182e+00,\n",
            "        4.96944691e+00,  2.73521617e+00,  3.00097933e+00,  3.50250919e+00,\n",
            "        8.43647997e+00,  3.79838896e+00,  3.55983682e+00,  1.68752380e+00,\n",
            "        1.92387973e+00,  5.64234458e+00,  2.81459934e+00,  9.53557409e+00,\n",
            "        2.33138384e+00,  1.61353679e-01,  3.26916057e+00,  4.04684681e+00,\n",
            "        8.05721305e+00,  9.17370608e+00,  7.89046015e+00,  2.84217094e-14,\n",
            "        5.35402130e+00,  3.03100911e+00,  5.75378599e+00,  4.41861837e+00,\n",
            "        6.34402701e+00,  3.70043052e+00,  3.89878078e+00,  1.27483939e+00,\n",
            "        9.27796380e+00,  9.07574553e+00,  7.43395256e+00,  2.39334611e+00,\n",
            "        7.16496286e+00,  4.91775131e+00,  7.34414536e+00,  6.57572307e+00,\n",
            "        5.15459146e+00,  5.21171089e+00,  3.09434516e+00,  1.96804036e+00,\n",
            "        2.06445805e+00,  6.72681539e-02,  9.34059422e+00,  1.59994800e+00])\n",
            "  status: 0\n",
            " success: True\n",
            "       x: array([2.00093153, 4.00476244, 4.97777791])\n",
            "R^2 (coefficient of determinant)\n",
            "0.9860979845383331\n"
          ]
        },
        {
          "output_type": "display_data",
          "data": {
            "text/plain": [
              "<Figure size 432x288 with 1 Axes>"
            ],
            "image/png": "[encoded data removed]"
          },
          "metadata": {
            "needs_background": "light"
          }
        }
      ]
    },
    {
      "cell_type": "markdown",
      "source": [
        "# Application of LP: Data Fitting 2; Absolute Deviation\n",
        "\n",
        "$E_1(a_0,a_1)=\\sum_{i=1}^{n}|y_i-(a_0x_i+a_1)|$\n",
        "\n",
        "The objective function for LP must be linear (and not involve the absolute\n",
        "value function). We can get around this by creating a set of $n$ new variables, $d_i$, where $d_i=|y_i-(a_0x_i+a_1)|$.\n",
        "\n",
        "Our object function will be $c^T x$, where $c=[0,0,1,1...1]$ and $x=[a_0, a_1,d_1,d_2...d_n]$\n",
        "Loosening the definition of $d_i$ somewhat will give us 2n inequality constraints:\n",
        "*   $y_i-(a_0x_i+a_1) \\le d_i$\n",
        "*   $-y_i+(a_0x_i+a_1) \\le d_i$\n",
        "\n",
        "The unknowns here are the $a_0$, $a_1$, $d_1$, $d_2$...$d_n$. We want to minimize $0*a_0+0*a_1+1*d_1+1*d_2+...1*d_n$ such that \n",
        "\n",
        "$\\left[\n",
        "\\begin{array}{ccc}\n",
        "x_1 & 1 & -1 & 0 & 0 & ... & 0\\\\\n",
        "x_2 & 1 & 0 & -1 & 0 & ... & 0\\\\\n",
        "... & .... & ... & ... & .... & ... & ...\\\\\n",
        "x_n & 1 & 0 & 0 & ... & ... & -1\\\\\n",
        "-x_1 & -1 & -1 & 0 & 0 & ... & 0\\\\\n",
        "-x_2 & -1 & 0 & -1 & 0 & ... & 0\\\\\n",
        "... & .... & ... & ... & .... & ... & ...\\\\\n",
        "-x_n & -1 & 0 & 0 & ... &... & -1\n",
        "\\end{array}\n",
        "\\right] \\left[\n",
        "\\begin{array}{ccc}\n",
        "a_0\\\\\n",
        "a_1\\\\\n",
        "d_1\\\\\n",
        "d_2\\\\\n",
        "...\\\\\n",
        "d_n\n",
        "\\end{array}\n",
        "\\right] \\le \\left[\n",
        "\\begin{array}{ccc}\n",
        "y_1\\\\\n",
        "y_2\\\\\n",
        "...\\\\\n",
        "y_n\\\\\n",
        "-y_1\\\\\n",
        "-y_2\\\\\n",
        "...\\\\\n",
        "-y_n\n",
        "\\end{array}\n",
        "\\right]$\n"
      ],
      "metadata": {
        "id": "yjthAKOE9Y55"
      }
    },
    {
      "cell_type": "code",
      "source": [
        "A_upp=np.column_stack((x,ONE))\n",
        "I=np.identity(len(x))\n",
        "A_upp=np.column_stack((A_upp,-I))\n",
        "A_lw=np.column_stack((-x,-ONE))\n",
        "A_lw=np.column_stack((A_lw,-I))\n",
        "A_up1=np.vstack((A_upp,A_lw))\n",
        "b_u1=np.concatenate((y, -y), axis=None)\n",
        "f=np.array([0,0])\n",
        "f=np.concatenate((f, ONE), axis=None)\n",
        "lp2=linprog(f,A_ub=A_up1,b_ub=b_u1, method='simplex',)\n",
        "# print(lp2)\n",
        "slp2=lp2.x[0]\n",
        "yint2=lp2.x[1]\n",
        "print(\"fun\",lp2.fun)\n",
        "lp2"
      ],
      "metadata": {
        "colab": {
          "base_uri": "https://localhost:8080/"
        },
        "id": "cPaZ8QZa9jl0",
        "outputId": "71de86c4-1976-4653-a600-9af1b3f1c4f4"
      },
      "execution_count": 8,
      "outputs": [
        {
          "output_type": "stream",
          "name": "stdout",
          "text": [
            "fun 223.02952418576874\n"
          ]
        },
        {
          "output_type": "execute_result",
          "data": {
            "text/plain": [
              "     con: array([], dtype=float64)\n",
              "     fun: 223.02952418576874\n",
              " message: 'Optimization terminated successfully.'\n",
              "     nit: 368\n",
              "   slack: array([ 1.14622429e+00,  2.23583192e+00,  4.29122736e+00,  3.94024572e+00,\n",
              "        5.65375896e-01, -8.52651283e-14,  1.12982044e+01,  6.17359184e+00,\n",
              "       -2.13162821e-14,  3.09759011e+00,  2.43595178e+00,  2.13162821e-14,\n",
              "        7.04754853e+00,  3.63486982e+00,  2.48689958e-14,  9.07891449e+00,\n",
              "       -1.42108547e-14, -1.77635684e-14,  1.31450406e-13, -4.26325641e-14,\n",
              "        2.48689958e-14,  6.39488462e-14, -3.55271368e-15,  2.42725141e+00,\n",
              "        8.01853544e+00,  1.29762096e+00,  3.09987535e+00,  6.65401222e+00,\n",
              "        7.10542736e-14,  8.65342059e+00,  1.77635684e-14,  7.10542736e-15,\n",
              "        2.48689958e-14,  4.61852778e-14,  1.01016707e+00,  5.04854798e+00,\n",
              "       -8.88178420e-15,  0.00000000e+00,  2.48689958e-14, -8.88178420e-16,\n",
              "        1.53947827e+00,  6.06026525e+00, -6.66133815e-15,  7.53748728e+00,\n",
              "        3.33100500e+00,  8.88178420e-16,  1.77635684e-15,  9.45895792e-01,\n",
              "        6.44826767e-01, -5.68434189e-14, -3.55271368e-14, -1.33226763e-15,\n",
              "        5.68434189e-14,  2.66453526e-15,  9.33096495e+00, -1.37667655e-14,\n",
              "        4.44089210e-15,  2.23011310e+00,  3.69951242e+00,  6.46628312e-01,\n",
              "        1.06581410e-14,  9.92960345e-01,  1.88527974e+00,  6.09189137e+00,\n",
              "        3.58123132e+00,  7.10542736e-15,  2.11038478e+00,  6.39488462e-14,\n",
              "        2.76612579e+00,  9.95979902e+00,  4.35214791e+00, -5.68434189e-14,\n",
              "       -2.30926389e-14,  7.10542736e-15, -1.06581410e-14,  7.74442121e+00,\n",
              "        1.42108547e-14,  3.22148646e+00,  0.00000000e+00,  1.52788107e+00,\n",
              "        1.77635684e-14,  3.20158695e+00, -1.42108547e-14,  6.18658481e+00,\n",
              "        6.21724894e-15,  7.81597009e-14,  8.88178420e-16,  4.04831170e+00,\n",
              "       -7.10542736e-15,  0.00000000e+00, -1.77635684e-15,  4.61852778e-14,\n",
              "       -3.55271368e-15,  8.88178420e-16,  2.26265437e+00,  5.84150035e+00,\n",
              "        3.29008294e+00,  8.31340242e+00,  0.00000000e+00,  8.21735515e+00,\n",
              "       -1.15463195e-14, -4.26325641e-14, -7.10542736e-15, -2.13162821e-14,\n",
              "       -1.77635684e-15,  7.52968772e+00, -6.75015599e-14,  7.10542736e-15,\n",
              "        2.02645631e+00,  2.22044605e-15,  7.10542736e-15,  9.07644750e+00,\n",
              "        1.20792265e-13, -9.94759830e-14,  8.93545224e+00, -1.77635684e-14,\n",
              "        4.97237165e+00,  4.50978385e+00,  9.59232693e-14,  3.72133767e-01,\n",
              "        6.27570187e+00,  3.42790002e-01,  2.01907639e+00, -5.32907052e-15,\n",
              "        0.00000000e+00, -8.88178420e-15,  0.00000000e+00,  7.10542736e-15,\n",
              "        8.57868152e+00,  5.32907052e-15,  1.21334406e+00,  5.59589158e+00,\n",
              "        5.38518075e+00,  3.47074607e-02,  5.68434189e-14,  3.55271368e-15,\n",
              "        3.35537828e+00,  1.13987386e+01,  3.17904489e+00,  8.76555807e+00,\n",
              "       -7.10542736e-15, -7.10542736e-15,  5.86752309e+00, -5.32907052e-15,\n",
              "       -5.32907052e-14,  6.33763143e-01,  2.22296134e+00,  7.99360578e-15,\n",
              "       -3.55271368e-14,  3.77073417e+00,  2.89825654e-01,  1.06822593e+01,\n",
              "        7.82821209e+00,  8.21476823e+00, -1.77635684e-15,  1.14172136e+00,\n",
              "        3.37660081e-01, -4.26325641e-14,  9.76996262e-15,  0.00000000e+00,\n",
              "        6.38749354e+00, -4.61852778e-14, -1.42108547e-14,  8.88178420e-16,\n",
              "        3.55271368e-14,  3.41932491e+00, -7.10542736e-15,  1.14345013e+01,\n",
              "        4.97379915e-14, -4.61852778e-14, -1.06581410e-14,  4.84369167e-01,\n",
              "        6.10334222e+00,  7.68199162e+00,  4.69959327e+00, -2.84217094e-14,\n",
              "        2.35726362e+00,  6.21724894e-15,  2.82109648e+00, -4.08562073e-14,\n",
              "        3.84641125e+00, -1.42108547e-14,  1.42108547e-14, -1.77635684e-14,\n",
              "        8.85533124e+00,  6.89836741e+00,  5.30792794e+00,  1.42108547e-14,\n",
              "        5.77412053e+00,  4.89077884e-01,  5.06411577e+00,  4.72834152e+00,\n",
              "        7.06592161e-01,  9.60565416e-01,  1.06581410e-14,  1.42108547e-14,\n",
              "        2.13162821e-14, -1.77635684e-14,  1.07670941e+01, -7.10542736e-15])\n",
              "  status: 0\n",
              " success: True\n",
              "       x: array([2.05362842e+00, 4.29345650e+00, 5.73112143e-01, 1.11791596e+00,\n",
              "       2.14561368e+00, 1.97012286e+00, 2.82687948e-01, 3.76484386e+00,\n",
              "       5.64910221e+00, 3.08679592e+00, 1.01322815e+00, 1.54879505e+00,\n",
              "       1.21797589e+00, 4.53822375e+00, 3.52377427e+00, 1.81743491e+00,\n",
              "       4.46772612e+00, 4.53945724e+00, 2.48618582e+00, 2.25489192e+00,\n",
              "       1.11771703e-13, 1.86066883e-01, 3.13785094e+00, 1.71395001e-01,\n",
              "       1.00953819e+00, 1.21362570e+00, 4.00926772e+00, 6.48810478e-01,\n",
              "       1.54993768e+00, 3.32700611e+00, 4.28934076e+00, 4.32671029e+00,\n",
              "       6.06672032e-01, 2.79794579e+00, 2.69259038e+00, 1.73537303e-02,\n",
              "       5.05083534e-01, 2.52427399e+00, 1.67768914e+00, 5.69936930e+00,\n",
              "       1.58952245e+00, 4.38277904e+00, 7.69739134e-01, 3.03013263e+00,\n",
              "       2.93376155e+00, 3.76874364e+00, 1.66550250e+00, 3.16881572e-01,\n",
              "       1.11148067e+00, 4.72947896e-01, 3.22413384e-01, 1.88536708e+00,\n",
              "       1.44912827e-01, 5.34112965e+00, 3.91410605e+00, 4.10738411e+00,\n",
              "       4.66548248e+00, 5.70860682e-01, 1.68830041e-01, 1.11505655e+00,\n",
              "       1.84975621e+00, 3.23314156e-01, 3.19374677e+00, 4.96480172e-01,\n",
              "       9.42639870e-01, 3.04594568e+00, 1.79061566e+00, 1.70966246e+00,\n",
              "       1.05519239e+00, 5.71725066e+00, 1.38306289e+00, 4.97989951e+00,\n",
              "       2.17607395e+00, 2.42184583e-01, 3.05167111e+00, 3.84099581e+00,\n",
              "       2.34979663e+00, 3.87221061e+00, 1.17863181e+00, 1.61074323e+00,\n",
              "       1.41054824e+00, 7.63940535e-01, 1.92320562e+00, 1.60079348e+00,\n",
              "       0.00000000e+00, 3.09329240e+00, 4.42766562e+00, 3.44918370e+00,\n",
              "       2.65396397e+00, 2.02415585e+00, 2.88706026e+00, 2.44538942e-01,\n",
              "       2.53205789e+00, 2.36417076e+00, 3.53296080e-01, 4.80282708e-01,\n",
              "       1.13132718e+00, 2.92075017e+00, 1.64504147e+00, 4.15670121e+00,\n",
              "       5.38354706e+00, 4.10867758e+00])"
            ]
          },
          "metadata": {},
          "execution_count": 8
        }
      ]
    },
    {
      "cell_type": "code",
      "source": [
        "plt.scatter(x,y,label=\"data\",s=2)\n",
        "plt.plot(x,slp2*x+yint2,'r',label=\"abs dev\")\n",
        "plt.legend()\n",
        "plt.xlabel(\"x\")\n",
        "plt.ylabel(\"y\")\n",
        "plt.title(\"Figure 3: Absolute Deviation\")\n",
        "\n",
        "y2=slp2*x+yint2\n",
        "rs2=calculating_R(y,y2)"
      ],
      "metadata": {
        "colab": {
          "base_uri": "https://localhost:8080/",
          "height": 0
        },
        "id": "6X1zBUa-OlTk",
        "outputId": "984a8774-c300-413d-f294-961b50f08c2e"
      },
      "execution_count": 9,
      "outputs": [
        {
          "output_type": "stream",
          "name": "stdout",
          "text": [
            "R^2 (coefficient of determinant)\n",
            "0.9860979845383333\n"
          ]
        },
        {
          "output_type": "display_data",
          "data": {
            "text/plain": [
              "<Figure size 432x288 with 1 Axes>"
            ],
            "image/png": "[encoded data removed]"
          },
          "metadata": {
            "needs_background": "light"
          }
        }
      ]
    },
    {
      "cell_type": "markdown",
      "source": [
        "# Data Fitting Using Least Square\n",
        "\n",
        "$E_2(a_0,a_1)=\\sum_{i=1}^{n}[y_i-(a_0x_i+a_1)]^2$\n",
        "\n",
        "1.   **Least squares polynomial fit**: The Polynomial.fit class method is recommended for new code as it is more stable numerically. \n",
        "2.   **numpy.linalg.lstsq**: Return the least-squares solution to a linear matrix equation. Computes the vector x that approximately solves the equation $a @ x = b$. The equation may be under-, well-, or over-determined (i.e., the number of linearly independent rows of $a$ can be less than, equal to, or greater than its number of linearly independent columns). If $a$ is square and of full rank, then x (but for round-off error) is the “exact” solution of the equation. Else, x minimizes the Euclidean 2-norm $||b-ax||$. If there are multiple minimizing solutions, the one with the smallest 2-norm $||x||$is returned.\n",
        "\n",
        "source: \n",
        "\n",
        "https://numpy.org/doc/stable/reference/generated/numpy.polyfit.html\n",
        "\n",
        "https://numpy.org/doc/stable/reference/generated/numpy.linalg.lstsq.html#numpy.linalg.lstsq"
      ],
      "metadata": {
        "id": "Ukb6JbgCBoId"
      }
    },
    {
      "cell_type": "markdown",
      "source": [
        "**Linear least square: Least squares polynomial fit**\n",
        "\n",
        "Fit a polynomial p(x) = p[0] * x**deg + ... + p[deg] of degree deg to points (x, y). Returns a vector of coefficients p that minimises the squared error in the order deg, deg-1, … 0."
      ],
      "metadata": {
        "id": "izASOTcUtwAr"
      }
    },
    {
      "cell_type": "code",
      "source": [
        "theta=np.polyfit(x,y,1)\n",
        "plt.scatter(x,y,label=\"data\",s=2)\n",
        "plt.plot(x,theta[0]*x+theta[1],'r',label=\"linear least square\",)\n",
        "# plt.plot(x,slp1*x+yint1,\"g\",label=\"absoluate deviation\")\n",
        "plt.legend()\n",
        "plt.xlabel(\"x\")\n",
        "plt.ylabel(\"y\")\n",
        "plt.title(\"Figure 4: Least Square Error\")\n",
        "theta\n",
        "\n",
        "y3=theta[0]*x+theta[1]\n",
        "rs3=calculating_R(y,y3)"
      ],
      "metadata": {
        "colab": {
          "base_uri": "https://localhost:8080/",
          "height": 0
        },
        "id": "VLjLkA9rt0Z8",
        "outputId": "10460f7c-67e4-47ba-a693-a3faa0544091"
      },
      "execution_count": 10,
      "outputs": [
        {
          "output_type": "stream",
          "name": "stdout",
          "text": [
            "R^2 (coefficient of determinant)\n",
            "0.986097984538334\n"
          ]
        },
        {
          "output_type": "display_data",
          "data": {
            "text/plain": [
              "<Figure size 432x288 with 1 Axes>"
            ],
            "image/png": "[encoded data removed]"
          },
          "metadata": {
            "needs_background": "light"
          }
        }
      ]
    },
    {
      "cell_type": "markdown",
      "source": [
        "**Linear least square: lstsq**\n",
        "\n",
        "We can rewrite the line equation as $y = Ap$, where A = [[$x$  1]] and $p = [[a_0], [a_1]]$. Now use lstsq to solve for p:"
      ],
      "metadata": {
        "id": "DIT-_kuiE1dI"
      }
    },
    {
      "cell_type": "code",
      "source": [
        "A=np.vstack([x, np.ones(len(x))]).T\n",
        "m, c = np.linalg.lstsq(A, y, rcond=None)[0]\n",
        "plt.scatter(x,y,label=\"data\",s=2)\n",
        "plt.scatter(x,m*x+c,marker='v',label=\"lstsq\",)\n",
        "plt.plot(x,theta[0]*x+theta[1],\"r\",label=\"polyfit\")\n",
        "plt.legend()\n",
        "plt.xlabel(\"x\")\n",
        "plt.ylabel(\"y\")\n",
        "m,c\n",
        "\n",
        "y4=m*x+c\n",
        "calculating_R(y,y4)\n",
        "m,c"
      ],
      "metadata": {
        "colab": {
          "base_uri": "https://localhost:8080/",
          "height": 0
        },
        "id": "waU3Sbvu5Xop",
        "outputId": "62fa67f4-54b1-4119-904d-561fdfb48ab9"
      },
      "execution_count": 11,
      "outputs": [
        {
          "output_type": "stream",
          "name": "stdout",
          "text": [
            "R^2 (coefficient of determinant)\n",
            "0.986097984538334\n"
          ]
        },
        {
          "output_type": "execute_result",
          "data": {
            "text/plain": [
              "(2.029160852571766, 4.185096419456243)"
            ]
          },
          "metadata": {},
          "execution_count": 11
        },
        {
          "output_type": "display_data",
          "data": {
            "text/plain": [
              "<Figure size 432x288 with 1 Axes>"
            ],
            "image/png": "[encoded data removed]"
          },
          "metadata": {
            "needs_background": "light"
          }
        }
      ]
    },
    {
      "cell_type": "markdown",
      "source": [
        "# Comparison of Diff Approaches in Finding the Line of Best Fit"
      ],
      "metadata": {
        "id": "80kygN3OSMlo"
      }
    },
    {
      "cell_type": "code",
      "source": [
        "fig,axs=plt.subplots(2,4,figsize=(18,9),sharey=True,sharex=True)\n",
        "#original data\n",
        "axs[0,0].scatter(x,y,label=\"data\",s=3)\n",
        "axs[0,0].set_xlabel(\"x\")\n",
        "axs[0,0].set_ylabel(\"y\")\n",
        "axs[0,0].set_title(\"Data\")\n",
        "axs[0,0].legend()\n",
        "\n",
        "#MinMax approach\n",
        "axs[0,1].scatter(x,y,label=\"data\",s=2)\n",
        "axs[0,1].plot(x,slp1*x+yint1,'r',label=\"MinMax\")\n",
        "axs[0,1].legend()\n",
        "axs[0,1].set_xlabel(\"x\")\n",
        "# axs[0,1].set_ylabel(\"y\")\n",
        "axs[0,1].set_title(\"MinMax approach\")\n",
        "axs[0,1].text(0.6,0.1,\"slp=%5.3f, yint=%5.3f, r^2=%5.3f\"%(slp1,yint1,rs1),bbox=dict(facecolor='yellow', alpha=0.5))\n",
        "\n",
        "#abs dev\n",
        "axs[0,2].scatter(x,y,label=\"data\",s=2)\n",
        "axs[0,2].plot(x,slp2*x+yint2,'r',label=\"abs dev\")\n",
        "axs[0,2].legend()\n",
        "axs[0,2].set_xlabel(\"x\")\n",
        "# axs[0,2].set_ylabel(\"y\")\n",
        "axs[0,2].set_title(\"Absolute Deviation\")\n",
        "axs[0,2].text(0.6,0.1,\"slp=%5.3f, yint=%5.3f, r^2=%5.3f\"%(slp2,yint2,rs2),bbox=dict(facecolor='yellow', alpha=0.5))\n",
        "\n",
        "#least square\n",
        "axs[0,3].scatter(x,y,label=\"data\",s=2)\n",
        "axs[0,3].plot(x,theta[0]*x+theta[1],'r',label=\"linear least square\",)\n",
        "# plt.plot(x,slp1*x+yint1,\"g\",label=\"absoluate deviation\")\n",
        "axs[0,3].legend()\n",
        "axs[0,3].set_xlabel(\"x\")\n",
        "# axs[0,3].set_ylabel(\"y\")\n",
        "axs[0,3].set_title(\"Least Square Error\")\n",
        "axs[0,3].text(0.6,0.1,\"slp=%5.3f, yint=%5.3f, r^2=%5.3f\"%(theta[0],theta[1],rs3),bbox=dict(facecolor='yellow', alpha=0.5))\n",
        "\n",
        "#minmax and abs dev\n",
        "axs[1,0].scatter(x,y,label=\"data\",s=3)\n",
        "axs[1,0].plot(x,slp1*x+yint1,'g',label=\"MinMax\",linewidth=0.5)\n",
        "axs[1,0].plot(x,slp2*x+yint2,'y',label=\"abs dev\",linewidth=0.5)\n",
        "axs[1,0].set_xlabel(\"x\")\n",
        "axs[1,0].set_ylabel(\"y\")\n",
        "axs[1,0].set_title(\"Comparison: MinMax vs Abs Dev\")\n",
        "axs[1,0].legend()\n",
        "\n",
        "#minmax and least square\n",
        "axs[1,1].scatter(x,y,label=\"data\",s=3)\n",
        "axs[1,1].plot(x,slp1*x+yint1,'g',label=\"MinMax\",linewidth=0.5)\n",
        "axs[1,1].plot(x,theta[0]*x+theta[1],'y',label=\"linear least square\")\n",
        "axs[1,1].set_xlabel(\"x\")\n",
        "# axs[1,1].set_ylabel(\"y\")\n",
        "axs[1,1].set_title(\"Comparison: MinMax vs least square\")\n",
        "axs[1,1].legend()\n",
        "\n",
        "#abs dev and least square\n",
        "axs[1,2].scatter(x,y,label=\"data\",s=3)\n",
        "axs[1,2].plot(x,slp2*x+yint2,'g',label=\"abs dev\",linewidth=0.5)\n",
        "axs[1,2].plot(x,theta[0]*x+theta[1],'y',label=\"linear least square\")\n",
        "axs[1,2].set_xlabel(\"x\")\n",
        "axs[1,2].set_title(\"Comparison: abs dev vs least square\")\n",
        "axs[1,2].legend()\n",
        "\n",
        "#all\n",
        "axs[1,3].scatter(x,y,label=\"data\",s=3)\n",
        "axs[1,3].plot(x,slp1*x+yint1,'g',label=\"MinMax\",linewidth=0.5)\n",
        "axs[1,3].plot(x,slp2*x+yint2,'y',label=\"abs dev\",linewidth=0.5)\n",
        "axs[1,3].plot(x,theta[0]*x+theta[1],'orange',label=\"linear least square\",linewidth=0.5)\n",
        "axs[1,3].set_xlabel(\"x\")\n",
        "axs[1,3].legend()\n",
        "axs[1,3].set_title(\"Comparison: MinMax vs Abs Dev vs Least Square\")\n",
        "fig.tight_layout()\n"
      ],
      "metadata": {
        "colab": {
          "base_uri": "https://localhost:8080/",
          "height": 0
        },
        "id": "y2Qea5QySPVN",
        "outputId": "4856eb7f-5d0d-48f0-8cf0-cbe83b7c59fc"
      },
      "execution_count": 12,
      "outputs": [
        {
          "output_type": "display_data",
          "data": {
            "text/plain": [
              "<Figure size 1296x648 with 8 Axes>"
            ],
            "image/png": "[encoded data removed]"
          },
          "metadata": {
            "needs_background": "light"
          }
        }
      ]
    },
    {
      "cell_type": "markdown",
      "source": [
        "# Comparison of Diff LP Algorithms 1\n",
        "\n",
        "There are many algorithms for solving LP problems:\n",
        "*   **Simplex algorithm**: In the feasible region(“compact domain”), x moves from vertex to vertex in direction of c. The algorithm is simple and works well in practice, but runs in exponential time in the worst case.\n",
        "*   **Ellipsoid algorithm**: It starts with an ellipsoid that includes the optimal solution, and keeps shrinking the ellipsoid until the optimal solution is found. This was the first poly-time algorithm. However, the algorithm is impractical in practice.\n",
        "*   **Interior Point Method:** x moves inside the polytope following c. This algorithm runs in poly-time and is practical.\n",
        "\n",
        "The algorithm used to solve the standard form problem. ‘highs-ds’, ‘highs-ipm’, ‘highs’, ‘interior-point’ (default), ‘revised simplex’, and ‘simplex’ (legacy) are supported."
      ],
      "metadata": {
        "id": "rKQFWG7GXGJS"
      }
    },
    {
      "cell_type": "code",
      "source": [
        "#function that outputs the total number of iterations performed in all phases.\n",
        "\n",
        "\n",
        "#problem1: maximize x1+x2 example \n",
        "func1=np.array([-1,-1])#\"c\"; objective function to be minimized\n",
        "A_u1=np.array([[-1,1],[1,6],[4,-1]])#\"A_ub\"\n",
        "b_u1=np.array([1,15,10])#\"b_ub\"\n",
        "bounds=[b1,b2]#bounds for decision variables\n",
        "def different_algorithms(func1,A_u1,b_u1,bounds=None,A_eq1=None, b_eq1=None):\n",
        "  #no such constraints for \"A_eq\" and \"b_eq\"\n",
        "\n",
        "  #simplex algorithm\n",
        "  print(\"simplex algorithm\")\n",
        "  start_time = time.time()\n",
        "  res=linprog(func1,A_ub=A_u1,b_ub=b_u1,A_eq=A_eq1, b_eq=b_eq1,bounds=bounds,method=\"simplex\")#applying linprog\n",
        "  end_time = time.time()\n",
        "  print(res)\n",
        "  iter1=res.nit#number of ierations\n",
        "  v1=res.fun#the value for our objective function\n",
        "  t1=end_time-start_time\n",
        "  print(\"---------------------------------\")\n",
        "\n",
        "  #interior point method\n",
        "  print(\"interior-point\")\n",
        "  start_time1 = time.time()\n",
        "  res1=linprog(func1,A_ub=A_u1,b_ub=b_u1,A_eq=A_eq1, b_eq=b_eq1,bounds=bounds,method=\"interior-point\")#applying linprog\n",
        "  end_time1 = time.time()\n",
        "  print(res1)\n",
        "  iter2=res1.nit\n",
        "  v2=res1.fun\n",
        "  t2=end_time1-start_time1\n",
        "  print()\n",
        "  return iter1,iter2,v1,v2,t1,t2\n",
        "\n",
        "i1,i2,v1,v2,t1,t2=different_algorithms(func1,A_u1,b_u1,bounds)\n",
        "\n",
        "\n",
        "df=pd.DataFrame(np.zeros((3,6)),['# of iterations','running time','objective function value'],[\"simplex1\",\"interior-point1\",\"simplex2\",\"interior-point2\",\"simplex3\",\"interior-point3\"])\n",
        "df.iat[0,0]=i1\n",
        "df.iat[0,1]=i2\n",
        "df.iat[1,0]=t1\n",
        "df.iat[1,1]=t2\n",
        "df.iat[2,0]=v1\n",
        "df.iat[2,1]=v2"
      ],
      "metadata": {
        "colab": {
          "base_uri": "https://localhost:8080/"
        },
        "id": "IMeLTOBJYNW6",
        "outputId": "6d3262e9-128d-44d2-d7eb-96de8b64a321"
      },
      "execution_count": 13,
      "outputs": [
        {
          "output_type": "stream",
          "name": "stdout",
          "text": [
            "simplex algorithm\n",
            "     con: array([], dtype=float64)\n",
            "     fun: -5.0\n",
            " message: 'Optimization terminated successfully.'\n",
            "     nit: 3\n",
            "   slack: array([2.00000000e+00, 1.77635684e-15, 0.00000000e+00])\n",
            "  status: 0\n",
            " success: True\n",
            "       x: array([3., 2.])\n",
            "---------------------------------\n",
            "interior-point\n",
            "     con: array([], dtype=float64)\n",
            "     fun: -4.999999999582599\n",
            " message: 'Optimization terminated successfully.'\n",
            "     nit: 4\n",
            "   slack: array([2.00000000e+00, 1.61717040e-09, 4.69835726e-10])\n",
            "  status: 0\n",
            " success: True\n",
            "       x: array([3., 2.])\n",
            "\n"
          ]
        },
        {
          "output_type": "stream",
          "name": "stderr",
          "text": [
            "/usr/local/lib/python3.7/dist-packages/numpy/core/fromnumeric.py:86: VisibleDeprecationWarning: Creating an ndarray from ragged nested sequences (which is a list-or-tuple of lists-or-tuples-or ndarrays with different lengths or shapes) is deprecated. If you meant to do this, you must specify 'dtype=object' when creating the ndarray.\n",
            "  return ufunc.reduce(obj, axis, dtype, out, **passkwargs)\n"
          ]
        }
      ]
    },
    {
      "cell_type": "code",
      "source": [
        "def different_algorithms_all(func1,A_u1,b_u1,md,bounds=None,A_eq1=None, b_eq1=None):\n",
        "  #no such constraints for \"A_eq\" and \"b_eq\"\n",
        "\n",
        "  start_time = time.time()\n",
        "  res=linprog(func1,A_ub=A_u1,b_ub=b_u1,A_eq=A_eq1, b_eq=b_eq1,bounds=bounds,method=md)#applying linprog\n",
        "  end_time = time.time()\n",
        "  print(res)\n",
        "  iter1=res.nit#number of ierations\n",
        "  v1=res.fun#the value for our objective function\n",
        "  t1=end_time-start_time\n",
        "\n",
        "  print()\n",
        "  return iter1,v1,t1\n",
        "\n",
        "\n",
        "\n",
        "def diff_al_all(func1,A_u1,b_u1,bounds=None,A_eq1=None, b_eq1=None):\n",
        "  #simplex\n",
        "  i1,v1,t1=different_algorithms_all(func1,A_u1,b_u1,\"simplex\",bounds,A_eq1, b_eq1)\n",
        "  #interior point\n",
        "  i2,v2,t2=different_algorithms_all(func1,A_u1,b_u1,\"interior-point\",bounds,A_eq1, b_eq1)\n",
        "  #revised simplex\n",
        "  i3,v3,t3=different_algorithms_all(func1,A_u1,b_u1,\"revised simplex\",bounds,A_eq1, b_eq1)\n",
        "  # #highs-ipm\n",
        "  # i4,v4,t4=different_algorithms_all(func1,A_u1,b_u1,\"highs-ipm\",bounds,A_eq1, b_eq1)\n",
        "  # #highs-ds\n",
        "  # i5,v5,t5=different_algorithms_all(func1,A_u1,b_u1,\"#highs-ds\",bounds,A_eq1, b_eq1)\n",
        "  # #highs\n",
        "  # i6,v6,t6=different_algorithms_all(func1,A_u1,b_u1,\"#highs\",bounds,A_eq1, b_eq1)\n",
        "\n",
        "  iters=np.array([i1,i2,i3])\n",
        "  values=np.array([v1,v2,v3])\n",
        "  ts=np.array([t1,t2,t3])\n",
        "  return iters,values,ts\n",
        "\n",
        "diff_al_all(func1,A_u1,b_u1,bounds=None,A_eq1=None, b_eq1=None)"
      ],
      "metadata": {
        "colab": {
          "base_uri": "https://localhost:8080/"
        },
        "id": "QosvYjy76UYC",
        "outputId": "915786b1-f539-49e4-c0be-2f166d7a68f4"
      },
      "execution_count": 14,
      "outputs": [
        {
          "output_type": "stream",
          "name": "stdout",
          "text": [
            "     con: array([], dtype=float64)\n",
            "     fun: -5.0\n",
            " message: 'Optimization terminated successfully.'\n",
            "     nit: 3\n",
            "   slack: array([2.00000000e+00, 1.77635684e-15, 0.00000000e+00])\n",
            "  status: 0\n",
            " success: True\n",
            "       x: array([3., 2.])\n",
            "\n",
            "     con: array([], dtype=float64)\n",
            "     fun: -4.999999999582599\n",
            " message: 'Optimization terminated successfully.'\n",
            "     nit: 4\n",
            "   slack: array([2.00000000e+00, 1.61717040e-09, 4.69835726e-10])\n",
            "  status: 0\n",
            " success: True\n",
            "       x: array([3., 2.])\n",
            "\n",
            "     con: array([], dtype=float64)\n",
            "     fun: -5.0\n",
            " message: 'Optimization terminated successfully.'\n",
            "     nit: 2\n",
            "   slack: array([2., 0., 0.])\n",
            "  status: 0\n",
            " success: True\n",
            "       x: array([3., 2.])\n",
            "\n"
          ]
        },
        {
          "output_type": "stream",
          "name": "stderr",
          "text": [
            "/usr/local/lib/python3.7/dist-packages/numpy/core/fromnumeric.py:86: VisibleDeprecationWarning: Creating an ndarray from ragged nested sequences (which is a list-or-tuple of lists-or-tuples-or ndarrays with different lengths or shapes) is deprecated. If you meant to do this, you must specify 'dtype=object' when creating the ndarray.\n",
            "  return ufunc.reduce(obj, axis, dtype, out, **passkwargs)\n"
          ]
        },
        {
          "output_type": "execute_result",
          "data": {
            "text/plain": [
              "(array([3, 4, 2]),\n",
              " array([-5., -5., -5.]),\n",
              " array([0.00510287, 0.01289296, 0.00356483]))"
            ]
          },
          "metadata": {},
          "execution_count": 14
        }
      ]
    },
    {
      "cell_type": "code",
      "source": [
        "#problem2: minmax problem\n",
        "ONE=np.ones(len(x))\n",
        "A_upper=np.column_stack((x,ONE))\n",
        "A_upper=np.column_stack((A_upper,-ONE))\n",
        "A_lower=np.column_stack((-x,-ONE))\n",
        "A_lower=np.column_stack((A_lower,-ONE))\n",
        "A_up=np.vstack((A_upper,A_lower))\n",
        "b_u=np.concatenate((y, -y), axis=None)\n",
        "i3,i4,v3,v4,t3,t4=different_algorithms(np.array([0,0,1]),A_up,b_u)\n",
        "df.iat[0,2]=i3\n",
        "df.iat[0,3]=i4\n",
        "df.iat[1,2]=t3\n",
        "df.iat[1,3]=t4\n",
        "df.iat[2,2]=v3\n",
        "df.iat[2,3]=v4\n"
      ],
      "metadata": {
        "colab": {
          "base_uri": "https://localhost:8080/"
        },
        "id": "FVBclia2l9_c",
        "outputId": "da002543-8f8b-44ec-8df7-89fa20401eae"
      },
      "execution_count": 15,
      "outputs": [
        {
          "output_type": "stream",
          "name": "stdout",
          "text": [
            "simplex algorithm\n",
            "     con: array([], dtype=float64)\n",
            "     fun: 4.9777779120534875\n",
            " message: 'Optimization terminated successfully.'\n",
            "     nit: 211\n",
            "   slack: array([ 5.68969111e+00,  5.76487965e+00,  8.09417064e+00,  6.52040110e+00,\n",
            "        5.18612648e+00,  2.45610969e+00,  9.95555582e+00,  8.57078083e+00,\n",
            "        3.79713800e+00,  6.72427247e+00,  6.82559972e+00,  1.29281693e+00,\n",
            "        9.77965794e+00,  6.12326512e+00,  2.72055773e-02,  9.39038386e+00,\n",
            "        3.61963417e+00,  3.11482838e+00,  4.34953394e+00,  5.80565731e+00,\n",
            "        1.54747764e+00,  4.11897234e+00,  4.92720200e+00,  6.55067721e+00,\n",
            "        8.53732596e+00,  5.65005865e+00,  6.00048421e+00,  7.74317348e+00,\n",
            "        1.62519695e+00,  9.45244260e+00,  4.12330747e+00,  2.71568040e+00,\n",
            "        1.77179816e+00,  4.54284892e+00,  6.44830083e+00,  7.74886962e+00,\n",
            "        3.45116080e+00,  1.51804636e-02,  3.29631622e+00,  7.74201300e-01,\n",
            "        5.80558202e+00,  8.66201156e+00,  2.38615317e+00,  9.07760433e+00,\n",
            "        6.01035579e+00,  4.86831339e+00,  3.98727895e+00,  5.82092518e+00,\n",
            "        4.88442592e+00,  4.36902008e+00,  4.14206707e+00, -8.88178420e-16,\n",
            "        4.93919805e-01,  1.06229070e+00,  9.90045299e+00,  4.56178400e+00,\n",
            "        4.98610891e+00,  7.22033965e+00,  6.95457649e+00,  6.45304663e+00,\n",
            "        1.51907585e+00,  6.15716686e+00,  6.39571901e+00,  8.26803202e+00,\n",
            "        8.03167610e+00,  4.31321124e+00,  7.14095648e+00,  4.19981735e-01,\n",
            "        7.62417198e+00,  9.79420215e+00,  6.68639526e+00,  5.90870902e+00,\n",
            "        1.89834277e+00,  7.81849749e-01,  2.06509567e+00,  9.95555582e+00,\n",
            "        4.60153452e+00,  6.92454672e+00,  4.20176983e+00,  5.53693745e+00,\n",
            "        3.61152881e+00,  6.25512531e+00,  6.05677504e+00,  8.68071644e+00,\n",
            "        6.77592020e-01,  8.79810297e-01,  2.52160327e+00,  7.56220972e+00,\n",
            "        2.79059296e+00,  5.03780452e+00,  2.61141046e+00,  3.37983276e+00,\n",
            "        4.80096436e+00,  4.74384494e+00,  6.86121066e+00,  7.98751546e+00,\n",
            "        7.89109778e+00,  9.88828767e+00,  6.14961603e-01,  8.35560782e+00,\n",
            "        4.26586472e+00,  4.19067618e+00,  1.86138519e+00,  3.43515472e+00,\n",
            "        4.76942935e+00,  7.49944614e+00, -3.55271368e-15,  1.38477500e+00,\n",
            "        6.15841782e+00,  3.23128335e+00,  3.12995610e+00,  8.66273889e+00,\n",
            "        1.75897882e-01,  3.83229070e+00,  9.92835025e+00,  5.65171965e-01,\n",
            "        6.33592165e+00,  6.84072744e+00,  5.60602189e+00,  4.14989852e+00,\n",
            "        8.40807819e+00,  5.83658349e+00,  5.02835383e+00,  3.40487861e+00,\n",
            "        1.41822986e+00,  4.30549717e+00,  3.95507161e+00,  2.21238235e+00,\n",
            "        8.33035888e+00,  5.03113229e-01,  5.83224836e+00,  7.23987543e+00,\n",
            "        8.18375766e+00,  5.41270691e+00,  3.50725500e+00,  2.20668620e+00,\n",
            "        6.50439502e+00,  9.94037536e+00,  6.65923960e+00,  9.18135452e+00,\n",
            "        4.14997381e+00,  1.29354427e+00,  7.56940265e+00,  8.77951490e-01,\n",
            "        3.94520004e+00,  5.08724244e+00,  5.96827687e+00,  4.13463064e+00,\n",
            "        5.07112990e+00,  5.58653574e+00,  5.81348875e+00,  9.95555582e+00,\n",
            "        9.46163602e+00,  8.89326512e+00,  5.51028380e-02,  5.39377182e+00,\n",
            "        4.96944691e+00,  2.73521617e+00,  3.00097933e+00,  3.50250919e+00,\n",
            "        8.43647997e+00,  3.79838896e+00,  3.55983682e+00,  1.68752380e+00,\n",
            "        1.92387973e+00,  5.64234458e+00,  2.81459934e+00,  9.53557409e+00,\n",
            "        2.33138384e+00,  1.61353679e-01,  3.26916057e+00,  4.04684681e+00,\n",
            "        8.05721305e+00,  9.17370608e+00,  7.89046015e+00,  2.84217094e-14,\n",
            "        5.35402130e+00,  3.03100911e+00,  5.75378599e+00,  4.41861837e+00,\n",
            "        6.34402701e+00,  3.70043052e+00,  3.89878078e+00,  1.27483939e+00,\n",
            "        9.27796380e+00,  9.07574553e+00,  7.43395256e+00,  2.39334611e+00,\n",
            "        7.16496286e+00,  4.91775131e+00,  7.34414536e+00,  6.57572307e+00,\n",
            "        5.15459146e+00,  5.21171089e+00,  3.09434516e+00,  1.96804036e+00,\n",
            "        2.06445805e+00,  6.72681539e-02,  9.34059422e+00,  1.59994800e+00])\n",
            "  status: 0\n",
            " success: True\n",
            "       x: array([2.00093153, 4.00476244, 4.97777791])\n",
            "---------------------------------\n",
            "interior-point\n",
            "     con: array([], dtype=float64)\n",
            "     fun: 4.977777912084302\n",
            " message: 'Optimization terminated successfully.'\n",
            "     nit: 9\n",
            "   slack: array([ 5.68969111e+00,  5.76487965e+00,  8.09417064e+00,  6.52040110e+00,\n",
            "        5.18612648e+00,  2.45610969e+00,  9.95555582e+00,  8.57078083e+00,\n",
            "        3.79713800e+00,  6.72427247e+00,  6.82559972e+00,  1.29281693e+00,\n",
            "        9.77965794e+00,  6.12326512e+00,  2.72055771e-02,  9.39038386e+00,\n",
            "        3.61963417e+00,  3.11482838e+00,  4.34953394e+00,  5.80565731e+00,\n",
            "        1.54747764e+00,  4.11897234e+00,  4.92720200e+00,  6.55067721e+00,\n",
            "        8.53732596e+00,  5.65005865e+00,  6.00048421e+00,  7.74317348e+00,\n",
            "        1.62519695e+00,  9.45244260e+00,  4.12330747e+00,  2.71568040e+00,\n",
            "        1.77179816e+00,  4.54284892e+00,  6.44830083e+00,  7.74886962e+00,\n",
            "        3.45116080e+00,  1.51804637e-02,  3.29631622e+00,  7.74201300e-01,\n",
            "        5.80558202e+00,  8.66201156e+00,  2.38615317e+00,  9.07760433e+00,\n",
            "        6.01035579e+00,  4.86831339e+00,  3.98727895e+00,  5.82092518e+00,\n",
            "        4.88442592e+00,  4.36902008e+00,  4.14206707e+00,  4.85638196e-11,\n",
            "        4.93919805e-01,  1.06229070e+00,  9.90045299e+00,  4.56178400e+00,\n",
            "        4.98610891e+00,  7.22033965e+00,  6.95457649e+00,  6.45304663e+00,\n",
            "        1.51907585e+00,  6.15716686e+00,  6.39571901e+00,  8.26803202e+00,\n",
            "        8.03167610e+00,  4.31321124e+00,  7.14095648e+00,  4.19981735e-01,\n",
            "        7.62417198e+00,  9.79420215e+00,  6.68639526e+00,  5.90870902e+00,\n",
            "        1.89834277e+00,  7.81849748e-01,  2.06509567e+00,  9.95555582e+00,\n",
            "        4.60153452e+00,  6.92454672e+00,  4.20176983e+00,  5.53693745e+00,\n",
            "        3.61152881e+00,  6.25512531e+00,  6.05677504e+00,  8.68071644e+00,\n",
            "        6.77592020e-01,  8.79810297e-01,  2.52160327e+00,  7.56220972e+00,\n",
            "        2.79059296e+00,  5.03780452e+00,  2.61141046e+00,  3.37983276e+00,\n",
            "        4.80096436e+00,  4.74384494e+00,  6.86121066e+00,  7.98751546e+00,\n",
            "        7.89109778e+00,  9.88828767e+00,  6.14961603e-01,  8.35560782e+00,\n",
            "        4.26586472e+00,  4.19067618e+00,  1.86138519e+00,  3.43515472e+00,\n",
            "        4.76942935e+00,  7.49944614e+00,  2.94516411e-10,  1.38477500e+00,\n",
            "        6.15841782e+00,  3.23128335e+00,  3.12995610e+00,  8.66273889e+00,\n",
            "        1.75897882e-01,  3.83229070e+00,  9.92835025e+00,  5.65171965e-01,\n",
            "        6.33592165e+00,  6.84072744e+00,  5.60602189e+00,  4.14989852e+00,\n",
            "        8.40807819e+00,  5.83658349e+00,  5.02835383e+00,  3.40487861e+00,\n",
            "        1.41822987e+00,  4.30549717e+00,  3.95507161e+00,  2.21238235e+00,\n",
            "        8.33035888e+00,  5.03113229e-01,  5.83224836e+00,  7.23987543e+00,\n",
            "        8.18375766e+00,  5.41270691e+00,  3.50725500e+00,  2.20668620e+00,\n",
            "        6.50439502e+00,  9.94037536e+00,  6.65923960e+00,  9.18135452e+00,\n",
            "        4.14997381e+00,  1.29354427e+00,  7.56940265e+00,  8.77951490e-01,\n",
            "        3.94520004e+00,  5.08724244e+00,  5.96827687e+00,  4.13463064e+00,\n",
            "        5.07112990e+00,  5.58653574e+00,  5.81348875e+00,  9.95555582e+00,\n",
            "        9.46163602e+00,  8.89326512e+00,  5.51028380e-02,  5.39377182e+00,\n",
            "        4.96944691e+00,  2.73521617e+00,  3.00097933e+00,  3.50250919e+00,\n",
            "        8.43647997e+00,  3.79838896e+00,  3.55983682e+00,  1.68752380e+00,\n",
            "        1.92387973e+00,  5.64234458e+00,  2.81459934e+00,  9.53557409e+00,\n",
            "        2.33138384e+00,  1.61353679e-01,  3.26916057e+00,  4.04684681e+00,\n",
            "        8.05721305e+00,  9.17370608e+00,  7.89046015e+00, -1.88812521e-10,\n",
            "        5.35402130e+00,  3.03100911e+00,  5.75378599e+00,  4.41861837e+00,\n",
            "        6.34402701e+00,  3.70043052e+00,  3.89878078e+00,  1.27483939e+00,\n",
            "        9.27796380e+00,  9.07574553e+00,  7.43395256e+00,  2.39334611e+00,\n",
            "        7.16496286e+00,  4.91775131e+00,  7.34414536e+00,  6.57572307e+00,\n",
            "        5.15459146e+00,  5.21171089e+00,  3.09434516e+00,  1.96804036e+00,\n",
            "        2.06445805e+00,  6.72681538e-02,  9.34059422e+00,  1.59994800e+00])\n",
            "  status: 0\n",
            " success: True\n",
            "       x: array([2.00093153, 4.00476244, 4.97777791])\n",
            "\n"
          ]
        },
        {
          "output_type": "stream",
          "name": "stderr",
          "text": [
            "/usr/local/lib/python3.7/dist-packages/numpy/core/fromnumeric.py:86: VisibleDeprecationWarning: Creating an ndarray from ragged nested sequences (which is a list-or-tuple of lists-or-tuples-or ndarrays with different lengths or shapes) is deprecated. If you meant to do this, you must specify 'dtype=object' when creating the ndarray.\n",
            "  return ufunc.reduce(obj, axis, dtype, out, **passkwargs)\n"
          ]
        }
      ]
    },
    {
      "cell_type": "code",
      "source": [
        "#problem3: abs dev problem\n",
        "A_upp=np.column_stack((x,ONE))\n",
        "I=np.identity(len(x))\n",
        "A_upp=np.column_stack((A_upp,-I))\n",
        "A_lw=np.column_stack((-x,-ONE))\n",
        "A_lw=np.column_stack((A_lw,-I))\n",
        "A_up1=np.vstack((A_upp,A_lw))\n",
        "b_u1=np.concatenate((y, -y), axis=None)\n",
        "f=np.array([0,0])\n",
        "f=np.concatenate((f, ONE), axis=None)\n",
        "i5,i6,v5,v6,t5,t6=different_algorithms(f,A_up1,b_u1)"
      ],
      "metadata": {
        "colab": {
          "base_uri": "https://localhost:8080/"
        },
        "id": "r8HaWOzqMwDH",
        "outputId": "522f772d-1196-4def-ba87-c14fb05724b4"
      },
      "execution_count": 16,
      "outputs": [
        {
          "output_type": "stream",
          "name": "stdout",
          "text": [
            "simplex algorithm\n",
            "     con: array([], dtype=float64)\n",
            "     fun: 223.02952418576874\n",
            " message: 'Optimization terminated successfully.'\n",
            "     nit: 368\n",
            "   slack: array([ 1.14622429e+00,  2.23583192e+00,  4.29122736e+00,  3.94024572e+00,\n",
            "        5.65375896e-01, -8.52651283e-14,  1.12982044e+01,  6.17359184e+00,\n",
            "       -2.13162821e-14,  3.09759011e+00,  2.43595178e+00,  2.13162821e-14,\n",
            "        7.04754853e+00,  3.63486982e+00,  2.48689958e-14,  9.07891449e+00,\n",
            "       -1.42108547e-14, -1.77635684e-14,  1.31450406e-13, -4.26325641e-14,\n",
            "        2.48689958e-14,  6.39488462e-14, -3.55271368e-15,  2.42725141e+00,\n",
            "        8.01853544e+00,  1.29762096e+00,  3.09987535e+00,  6.65401222e+00,\n",
            "        7.10542736e-14,  8.65342059e+00,  1.77635684e-14,  7.10542736e-15,\n",
            "        2.48689958e-14,  4.61852778e-14,  1.01016707e+00,  5.04854798e+00,\n",
            "       -8.88178420e-15,  0.00000000e+00,  2.48689958e-14, -8.88178420e-16,\n",
            "        1.53947827e+00,  6.06026525e+00, -6.66133815e-15,  7.53748728e+00,\n",
            "        3.33100500e+00,  8.88178420e-16,  1.77635684e-15,  9.45895792e-01,\n",
            "        6.44826767e-01, -5.68434189e-14, -3.55271368e-14, -1.33226763e-15,\n",
            "        5.68434189e-14,  2.66453526e-15,  9.33096495e+00, -1.37667655e-14,\n",
            "        4.44089210e-15,  2.23011310e+00,  3.69951242e+00,  6.46628312e-01,\n",
            "        1.06581410e-14,  9.92960345e-01,  1.88527974e+00,  6.09189137e+00,\n",
            "        3.58123132e+00,  7.10542736e-15,  2.11038478e+00,  6.39488462e-14,\n",
            "        2.76612579e+00,  9.95979902e+00,  4.35214791e+00, -5.68434189e-14,\n",
            "       -2.30926389e-14,  7.10542736e-15, -1.06581410e-14,  7.74442121e+00,\n",
            "        1.42108547e-14,  3.22148646e+00,  0.00000000e+00,  1.52788107e+00,\n",
            "        1.77635684e-14,  3.20158695e+00, -1.42108547e-14,  6.18658481e+00,\n",
            "        6.21724894e-15,  7.81597009e-14,  8.88178420e-16,  4.04831170e+00,\n",
            "       -7.10542736e-15,  0.00000000e+00, -1.77635684e-15,  4.61852778e-14,\n",
            "       -3.55271368e-15,  8.88178420e-16,  2.26265437e+00,  5.84150035e+00,\n",
            "        3.29008294e+00,  8.31340242e+00,  0.00000000e+00,  8.21735515e+00,\n",
            "       -1.15463195e-14, -4.26325641e-14, -7.10542736e-15, -2.13162821e-14,\n",
            "       -1.77635684e-15,  7.52968772e+00, -6.75015599e-14,  7.10542736e-15,\n",
            "        2.02645631e+00,  2.22044605e-15,  7.10542736e-15,  9.07644750e+00,\n",
            "        1.20792265e-13, -9.94759830e-14,  8.93545224e+00, -1.77635684e-14,\n",
            "        4.97237165e+00,  4.50978385e+00,  9.59232693e-14,  3.72133767e-01,\n",
            "        6.27570187e+00,  3.42790002e-01,  2.01907639e+00, -5.32907052e-15,\n",
            "        0.00000000e+00, -8.88178420e-15,  0.00000000e+00,  7.10542736e-15,\n",
            "        8.57868152e+00,  5.32907052e-15,  1.21334406e+00,  5.59589158e+00,\n",
            "        5.38518075e+00,  3.47074607e-02,  5.68434189e-14,  3.55271368e-15,\n",
            "        3.35537828e+00,  1.13987386e+01,  3.17904489e+00,  8.76555807e+00,\n",
            "       -7.10542736e-15, -7.10542736e-15,  5.86752309e+00, -5.32907052e-15,\n",
            "       -5.32907052e-14,  6.33763143e-01,  2.22296134e+00,  7.99360578e-15,\n",
            "       -3.55271368e-14,  3.77073417e+00,  2.89825654e-01,  1.06822593e+01,\n",
            "        7.82821209e+00,  8.21476823e+00, -1.77635684e-15,  1.14172136e+00,\n",
            "        3.37660081e-01, -4.26325641e-14,  9.76996262e-15,  0.00000000e+00,\n",
            "        6.38749354e+00, -4.61852778e-14, -1.42108547e-14,  8.88178420e-16,\n",
            "        3.55271368e-14,  3.41932491e+00, -7.10542736e-15,  1.14345013e+01,\n",
            "        4.97379915e-14, -4.61852778e-14, -1.06581410e-14,  4.84369167e-01,\n",
            "        6.10334222e+00,  7.68199162e+00,  4.69959327e+00, -2.84217094e-14,\n",
            "        2.35726362e+00,  6.21724894e-15,  2.82109648e+00, -4.08562073e-14,\n",
            "        3.84641125e+00, -1.42108547e-14,  1.42108547e-14, -1.77635684e-14,\n",
            "        8.85533124e+00,  6.89836741e+00,  5.30792794e+00,  1.42108547e-14,\n",
            "        5.77412053e+00,  4.89077884e-01,  5.06411577e+00,  4.72834152e+00,\n",
            "        7.06592161e-01,  9.60565416e-01,  1.06581410e-14,  1.42108547e-14,\n",
            "        2.13162821e-14, -1.77635684e-14,  1.07670941e+01, -7.10542736e-15])\n",
            "  status: 0\n",
            " success: True\n",
            "       x: array([2.05362842e+00, 4.29345650e+00, 5.73112143e-01, 1.11791596e+00,\n",
            "       2.14561368e+00, 1.97012286e+00, 2.82687948e-01, 3.76484386e+00,\n",
            "       5.64910221e+00, 3.08679592e+00, 1.01322815e+00, 1.54879505e+00,\n",
            "       1.21797589e+00, 4.53822375e+00, 3.52377427e+00, 1.81743491e+00,\n",
            "       4.46772612e+00, 4.53945724e+00, 2.48618582e+00, 2.25489192e+00,\n",
            "       1.11771703e-13, 1.86066883e-01, 3.13785094e+00, 1.71395001e-01,\n",
            "       1.00953819e+00, 1.21362570e+00, 4.00926772e+00, 6.48810478e-01,\n",
            "       1.54993768e+00, 3.32700611e+00, 4.28934076e+00, 4.32671029e+00,\n",
            "       6.06672032e-01, 2.79794579e+00, 2.69259038e+00, 1.73537303e-02,\n",
            "       5.05083534e-01, 2.52427399e+00, 1.67768914e+00, 5.69936930e+00,\n",
            "       1.58952245e+00, 4.38277904e+00, 7.69739134e-01, 3.03013263e+00,\n",
            "       2.93376155e+00, 3.76874364e+00, 1.66550250e+00, 3.16881572e-01,\n",
            "       1.11148067e+00, 4.72947896e-01, 3.22413384e-01, 1.88536708e+00,\n",
            "       1.44912827e-01, 5.34112965e+00, 3.91410605e+00, 4.10738411e+00,\n",
            "       4.66548248e+00, 5.70860682e-01, 1.68830041e-01, 1.11505655e+00,\n",
            "       1.84975621e+00, 3.23314156e-01, 3.19374677e+00, 4.96480172e-01,\n",
            "       9.42639870e-01, 3.04594568e+00, 1.79061566e+00, 1.70966246e+00,\n",
            "       1.05519239e+00, 5.71725066e+00, 1.38306289e+00, 4.97989951e+00,\n",
            "       2.17607395e+00, 2.42184583e-01, 3.05167111e+00, 3.84099581e+00,\n",
            "       2.34979663e+00, 3.87221061e+00, 1.17863181e+00, 1.61074323e+00,\n",
            "       1.41054824e+00, 7.63940535e-01, 1.92320562e+00, 1.60079348e+00,\n",
            "       0.00000000e+00, 3.09329240e+00, 4.42766562e+00, 3.44918370e+00,\n",
            "       2.65396397e+00, 2.02415585e+00, 2.88706026e+00, 2.44538942e-01,\n",
            "       2.53205789e+00, 2.36417076e+00, 3.53296080e-01, 4.80282708e-01,\n",
            "       1.13132718e+00, 2.92075017e+00, 1.64504147e+00, 4.15670121e+00,\n",
            "       5.38354706e+00, 4.10867758e+00])\n",
            "---------------------------------\n",
            "interior-point\n",
            "     con: array([], dtype=float64)\n",
            "     fun: 223.02952418629377\n",
            " message: 'Optimization terminated successfully.'\n",
            "     nit: 8\n",
            "   slack: array([ 1.14622429e+00,  2.23583192e+00,  4.29122736e+00,  3.94024572e+00,\n",
            "        5.65375896e-01,  1.70537362e-10,  1.12982044e+01,  6.17359184e+00,\n",
            "        4.46487292e-11,  3.09759011e+00,  2.43595178e+00,  1.38090428e-10,\n",
            "        7.04754853e+00,  3.63486982e+00, -7.07558456e-11,  9.07891449e+00,\n",
            "        1.83078441e-10,  4.57340832e-11,  4.55884219e-11,  3.26586758e-10,\n",
            "        2.59383626e-11, -2.05972128e-10,  3.76303433e-11,  2.42725141e+00,\n",
            "        8.01853544e+00,  1.29762096e+00,  3.09987535e+00,  6.65401222e+00,\n",
            "        1.02104991e-10,  8.65342059e+00,  1.19229071e-11,  1.81721305e-11,\n",
            "       -1.20913057e-10, -4.98729946e-11,  1.01016707e+00,  5.04854798e+00,\n",
            "        2.94004820e-11,  1.93168148e-10,  4.25632862e-11, -8.19433410e-12,\n",
            "        1.53947827e+00,  6.06026525e+00,  4.56701343e-11,  7.53748728e+00,\n",
            "        3.33100500e+00,  4.79287721e-11,  2.65565347e-11,  9.45895793e-01,\n",
            "        6.44826767e-01,  5.05835374e-11,  4.53397320e-11, -1.32969191e-11,\n",
            "       -9.88791271e-11,  9.42845801e-12,  9.33096495e+00,  5.43676215e-11,\n",
            "        9.03446207e-11,  2.23011310e+00,  3.69951242e+00,  6.46628313e-01,\n",
            "       -6.52633503e-12,  9.92960346e-01,  1.88527974e+00,  6.09189137e+00,\n",
            "        3.58123132e+00, -3.93214350e-11,  2.11038478e+00,  1.42158285e-10,\n",
            "        2.76612579e+00,  9.95979902e+00,  4.35214791e+00,  2.65600875e-10,\n",
            "       -3.95363742e-11, -2.45591991e-10, -1.79184667e-10,  7.74442121e+00,\n",
            "        7.30437932e-12,  3.22148646e+00,  1.09054099e-10,  1.52788107e+00,\n",
            "        1.17690746e-10,  3.20158695e+00,  7.75848719e-10,  6.18658481e+00,\n",
            "       -6.33946229e-11, -3.40833139e-10,  1.72422077e-11,  4.04831170e+00,\n",
            "        3.69979603e-11,  8.20765678e-11,  4.87618834e-11,  6.39559516e-11,\n",
            "        9.00044483e-11,  4.15734114e-11,  2.26265437e+00,  5.84150035e+00,\n",
            "        3.29008294e+00,  8.31340242e+00,  1.81046289e-11,  8.21735515e+00,\n",
            "        2.79527512e-11, -9.91704496e-11,  1.45305989e-11,  5.83000315e-11,\n",
            "       -1.24344979e-13,  7.52968772e+00, -5.25872679e-11, -3.64153152e-11,\n",
            "        2.02645631e+00, -8.06466005e-13, -8.15880696e-11,  9.07644750e+00,\n",
            "        5.41504619e-11,  1.80691018e-11,  8.93545224e+00,  2.09290363e-11,\n",
            "        4.97237164e+00,  4.50978384e+00,  3.18493676e-10,  3.72133766e-01,\n",
            "        6.27570187e+00,  3.42790002e-01,  2.01907639e+00, -3.27862182e-11,\n",
            "        2.15550244e-10,  1.40808254e-10,  2.91286995e-11,  2.37790232e-10,\n",
            "        8.57868151e+00, -7.86624099e-11,  1.21334406e+00,  5.59589158e+00,\n",
            "        5.38518075e+00,  3.47074608e-02, -1.92052596e-10, -4.57767158e-11,\n",
            "        3.35537828e+00,  1.13987386e+01,  3.17904489e+00,  8.76555807e+00,\n",
            "        8.56603677e-11, -1.30071953e-10,  5.86752309e+00, -8.86206664e-11,\n",
            "       -8.99333941e-11,  6.33763143e-01,  2.22296134e+00, -2.73585599e-11,\n",
            "        3.32697425e-10,  3.77073417e+00,  2.89825654e-01,  1.06822593e+01,\n",
            "        7.82821209e+00,  8.21476823e+00, -6.29407637e-11,  1.14172136e+00,\n",
            "        3.37660081e-01,  8.13358270e-11, -4.98356911e-11, -1.07711173e-10,\n",
            "        6.38749354e+00, -9.82893766e-11, -1.53317359e-11, -5.89714944e-11,\n",
            "        1.72100556e-10,  3.41932491e+00, -2.50842902e-10,  1.14345013e+01,\n",
            "       -1.70608416e-10,  1.56159530e-11,  1.06375353e-10,  4.84369166e-01,\n",
            "        6.10334222e+00,  7.68199162e+00,  4.69959327e+00,  3.24860139e-11,\n",
            "        2.35726362e+00, -4.13411527e-11,  2.82109648e+00,  2.06075157e-11,\n",
            "        3.84641125e+00,  1.63460356e-10, -1.78410176e-10, -1.54567914e-10,\n",
            "        8.85533124e+00,  6.89836741e+00,  5.30792794e+00, -1.28903110e-10,\n",
            "        5.77412053e+00,  4.89077883e-01,  5.06411577e+00,  4.72834152e+00,\n",
            "        7.06592161e-01,  9.60565416e-01, -1.32384770e-10, -4.45030679e-11,\n",
            "       -3.34694050e-10, -1.38992817e-10,  1.07670941e+01, -6.73523459e-11])\n",
            "  status: 0\n",
            " success: True\n",
            "       x: array([2.05362842e+00, 4.29345650e+00, 5.73112144e-01, 1.11791596e+00,\n",
            "       2.14561368e+00, 1.97012286e+00, 2.82687948e-01, 3.76484386e+00,\n",
            "       5.64910221e+00, 3.08679592e+00, 1.01322815e+00, 1.54879505e+00,\n",
            "       1.21797589e+00, 4.53822375e+00, 3.52377427e+00, 1.81743491e+00,\n",
            "       4.46772612e+00, 4.53945724e+00, 2.48618582e+00, 2.25489192e+00,\n",
            "       1.82041232e-10, 1.86066883e-01, 3.13785094e+00, 1.71395001e-01,\n",
            "       1.00953819e+00, 1.21362570e+00, 4.00926772e+00, 6.48810478e-01,\n",
            "       1.54993768e+00, 3.32700611e+00, 4.28934076e+00, 4.32671029e+00,\n",
            "       6.06672032e-01, 2.79794579e+00, 2.69259038e+00, 1.73537304e-02,\n",
            "       5.05083535e-01, 2.52427399e+00, 1.67768914e+00, 5.69936930e+00,\n",
            "       1.58952245e+00, 4.38277904e+00, 7.69739134e-01, 3.03013263e+00,\n",
            "       2.93376155e+00, 3.76874364e+00, 1.66550250e+00, 3.16881572e-01,\n",
            "       1.11148067e+00, 4.72947896e-01, 3.22413384e-01, 1.88536708e+00,\n",
            "       1.44912827e-01, 5.34112965e+00, 3.91410605e+00, 4.10738411e+00,\n",
            "       4.66548248e+00, 5.70860681e-01, 1.68830040e-01, 1.11505655e+00,\n",
            "       1.84975621e+00, 3.23314157e-01, 3.19374677e+00, 4.96480173e-01,\n",
            "       9.42639870e-01, 3.04594568e+00, 1.79061566e+00, 1.70966245e+00,\n",
            "       1.05519239e+00, 5.71725066e+00, 1.38306289e+00, 4.97989951e+00,\n",
            "       2.17607395e+00, 2.42184583e-01, 3.05167111e+00, 3.84099581e+00,\n",
            "       2.34979663e+00, 3.87221061e+00, 1.17863181e+00, 1.61074323e+00,\n",
            "       1.41054824e+00, 7.63940535e-01, 1.92320562e+00, 1.60079348e+00,\n",
            "       2.98718872e-10, 3.09329240e+00, 4.42766562e+00, 3.44918370e+00,\n",
            "       2.65396397e+00, 2.02415585e+00, 2.88706026e+00, 2.44538942e-01,\n",
            "       2.53205789e+00, 2.36417076e+00, 3.53296080e-01, 4.80282708e-01,\n",
            "       1.13132718e+00, 2.92075017e+00, 1.64504147e+00, 4.15670121e+00,\n",
            "       5.38354706e+00, 4.10867758e+00])\n",
            "\n"
          ]
        },
        {
          "output_type": "stream",
          "name": "stderr",
          "text": [
            "/usr/local/lib/python3.7/dist-packages/numpy/core/fromnumeric.py:86: VisibleDeprecationWarning: Creating an ndarray from ragged nested sequences (which is a list-or-tuple of lists-or-tuples-or ndarrays with different lengths or shapes) is deprecated. If you meant to do this, you must specify 'dtype=object' when creating the ndarray.\n",
            "  return ufunc.reduce(obj, axis, dtype, out, **passkwargs)\n"
          ]
        }
      ]
    },
    {
      "cell_type": "code",
      "source": [
        "df.iat[0,4]=i5\n",
        "df.iat[0,5]=i6\n",
        "df.iat[1,4]=t5\n",
        "df.iat[1,5]=t6\n",
        "df.iat[2,4]=v5\n",
        "df.iat[2,5]=v6\n",
        "print(df)"
      ],
      "metadata": {
        "colab": {
          "base_uri": "https://localhost:8080/"
        },
        "id": "rXfyh8DONcxs",
        "outputId": "738692fa-e428-4705-c83a-b4da6ade6e2a"
      },
      "execution_count": 17,
      "outputs": [
        {
          "output_type": "stream",
          "name": "stdout",
          "text": [
            "                          simplex1  interior-point1    simplex2  \\\n",
            "# of iterations           3.000000         4.000000  211.000000   \n",
            "running time              0.005004         0.008721    0.716858   \n",
            "objective function value -5.000000        -5.000000    4.977778   \n",
            "\n",
            "                          interior-point2    simplex3  interior-point3  \n",
            "# of iterations                  9.000000  368.000000         8.000000  \n",
            "running time                     0.123515    1.266791         0.103543  \n",
            "objective function value         4.977778  223.029524       223.029524  \n"
          ]
        }
      ]
    },
    {
      "cell_type": "markdown",
      "source": [
        "# Comparison of Diff LP Algorithms2: Visualizations"
      ],
      "metadata": {
        "id": "4iacGX-QPAwg"
      }
    },
    {
      "cell_type": "code",
      "source": [
        "#simplex algorithm\n",
        "xt=[\"example\",\"MinMax\",\"Abs Dev\"]\n",
        "iters1=np.array([i1,i3,i5])\n",
        "rt1=np.array([t1,t3,t5])\n",
        "ofvalue1=np.array([v1,v3,v5])\n",
        "#interior point\n",
        "iters2=np.array([i2,i4,i6])\n",
        "rt2=np.array([t2,t4,t6])\n",
        "ofvalue2=np.array([v2,v4,v6])\n",
        "\n",
        "fig,axs=plt.subplots(1,3,figsize=(15,5))\n",
        "axs[0].plot(xt,iters1,'bo--',label=\"Simplex\")\n",
        "axs[0].plot(xt,iters2,'r*--',label=\"Interior-Point\")\n",
        "axs[0].legend()\n",
        "axs[0].set_ylabel(\"# of iterations\")\n",
        "\n",
        "axs[1].plot(xt,rt1,'bo--',label=\"Simplex\")\n",
        "axs[1].plot(xt,rt2,'r*--',label=\"Interior-Point\")\n",
        "axs[1].set_ylabel(\"running time\")\n",
        "axs[1].legend()\n",
        "\n",
        "axs[2].plot(xt,ofvalue1,'bo--',label=\"Simplex\")\n",
        "axs[2].plot(xt,ofvalue2,'r*--',label=\"Interior-Point\",)\n",
        "axs[2].set_ylabel(\"value of the objective function\")\n",
        "axs[2].legend()\n",
        "\n",
        "fig.suptitle(\"Simplex Algorithm versus Interior-Point Method\")"
      ],
      "metadata": {
        "colab": {
          "base_uri": "https://localhost:8080/",
          "height": 0
        },
        "id": "jk5ZfsywPMW8",
        "outputId": "8690ff80-3fc1-46ae-86b9-121fa3b2bcda"
      },
      "execution_count": 18,
      "outputs": [
        {
          "output_type": "execute_result",
          "data": {
            "text/plain": [
              "Text(0.5, 0.98, 'Simplex Algorithm versus Interior-Point Method')"
            ]
          },
          "metadata": {},
          "execution_count": 18
        },
        {
          "output_type": "display_data",
          "data": {
            "text/plain": [
              "<Figure size 1080x360 with 3 Axes>"
            ],
            "image/png": "[encoded data removed]"
          },
          "metadata": {
            "needs_background": "light"
          }
        }
      ]
    }
  ]
}