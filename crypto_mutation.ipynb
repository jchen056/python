{
  "cells": [
    {
      "cell_type": "code",
      "execution_count": 1,
      "metadata": {
        "id": "b3fHgvTEP45f"
      },
      "outputs": [],
      "source": [
        "# importing \"random\" for random operations\n",
        "import random\n",
        "import numpy as np\n",
        "import matplotlib.pyplot as plt"
      ]
    },
    {
      "cell_type": "code",
      "execution_count": 2,
      "metadata": {
        "colab": {
          "base_uri": "https://localhost:8080/"
        },
        "id": "bnDADeQgw9jD",
        "outputId": "3809124f-2c84-405c-a316-1eaa5571e83c"
      },
      "outputs": [
        {
          "output_type": "stream",
          "name": "stdout",
          "text": [
            "please enter a decimal between 0 and 1 for the p(bi=1) for A:0.8\n",
            "For A, p(bi=1)= 0.8\n"
          ]
        },
        {
          "output_type": "execute_result",
          "data": {
            "text/plain": [
              "array([0.2, 0.8])"
            ]
          },
          "metadata": {},
          "execution_count": 2
        }
      ],
      "source": [
        "#a is the probability of getting 1; p(b=1)=a and p(b=0)=1-a\n",
        "#throw the coin N times\n",
        "#the function coin_toss is used for calculating A and KA\n",
        "def coin_toss(N,a):\n",
        "  y=[None]*N\n",
        "  for i in range(1,(N+1)):\n",
        "    b=random.random()#produce a random number btw 0 and 1\n",
        "    if b<(1-a):\n",
        "      y[i-1]=0\n",
        "    else:\n",
        "      y[i-1]=1\n",
        "  return y\n",
        "\n",
        "N=1000000\n",
        "a=float(input(\"please enter a decimal between 0 and 1 for the p(bi=1) for A:\"))\n",
        "print(\"For A, p(bi=1)=\",a)\n",
        "#a_values=np.arange(0,1,0.1)\n",
        "av=np.array([0.2])\n",
        "av=np.append(av,a)\n",
        "av"
      ]
    },
    {
      "cell_type": "code",
      "execution_count": 3,
      "metadata": {
        "id": "e_DXuxOSO8iV"
      },
      "outputs": [],
      "source": [
        "#random.choices() method in Python\n",
        "#returns multiple random elements from the list with replacement. You can weigh the possibility of each result with the weights parameter \n",
        "def toss_coin(N,a):\n",
        "  mylist=[0,1]#possible values of coin toss\n",
        "  return (random.choices(mylist, weights = [1-a,a], k = N))\n",
        "\n",
        "# print(sum(toss_coin(1000,0.2)))"
      ]
    },
    {
      "cell_type": "code",
      "execution_count": 4,
      "metadata": {
        "id": "93payMXzx4ff"
      },
      "outputs": [],
      "source": [
        "#p(b'=b)=p and p(b'=1-b)=1-p\n",
        "def mut(p,b):\n",
        "  x=random.random()\n",
        "  if x<1-p:#the bit does not change\n",
        "    return 1-b\n",
        "  else:#the bit flips\n",
        "    return b\n",
        "\n",
        "# print(mut(1,0))\n",
        "def s_mutation(S,p):\n",
        "  y=S[:]\n",
        "  N=len(S)\n",
        "  for i in range(1,(1+N)):\n",
        "    x=mut(p,y[i-1])\n",
        "    y[i-1]=x\n",
        "  return y"
      ]
    },
    {
      "cell_type": "code",
      "execution_count": null,
      "metadata": {
        "colab": {
          "base_uri": "https://localhost:8080/"
        },
        "id": "0J-Vc2uVP8dZ",
        "outputId": "8b8e1858-5b91-47f7-a9a0-81737b733627"
      },
      "outputs": [
        {
          "name": "stdout",
          "output_type": "stream",
          "text": [
            "[[0], [0], [1]]\n"
          ]
        }
      ],
      "source": [
        "# def mutation(p,b):\n",
        "#   mylist=[1-b,b]\n",
        "#   return (random.choices(mylist, weights = [1-p,p], k = 1))#it returns a list\n",
        "\n",
        "# # print(mutation(0,0))\n",
        "# def mutations(S,p):\n",
        "#   y=S[:]#make a copy of S\n",
        "#   N=len(S)\n",
        "#   for i in range(0,N):\n",
        "#     x=mutation(p,y[i])\n",
        "#     y[i]=x\n",
        "#   return y\n",
        "\n",
        "# print(mutations([1,1,0],0))"
      ]
    },
    {
      "cell_type": "code",
      "execution_count": 5,
      "metadata": {
        "id": "YvbE12YPyPjO"
      },
      "outputs": [],
      "source": [
        "#n is the number of data points you want\n",
        "\n",
        "def data_gen(n,N,a):\n",
        "  KA=coin_toss(N,0.5)#Alice's encryption key\n",
        "  KAa=np.array(KA)\n",
        "\n",
        "  dt=(0.6-0.4)/(n-1)#instead of 0-1, do 0.4-0.6\n",
        "  Ps=[None]*n\n",
        "  for i in range(1,(n+1)):\n",
        "    Ps[i-1]=0.4+(i-1)*dt\n",
        "  Pss=np.array(Ps)#transforming a list into array\n",
        "  not_half=Pss!=0.5#eliminate 0.5\n",
        "  Pv=Pss[not_half]#mask indexing\n",
        "\n",
        "  iter=len(Pv)\n",
        "  As=np.zeros(iter)\n",
        "  Bs=np.zeros(iter)\n",
        "  Aesti=np.zeros(iter)\n",
        "  \n",
        "  for i in range(1,(iter+1)):\n",
        "    A=coin_toss(N,a)#Alice's bit string\n",
        "    Aa=np.array(A)\n",
        "    KB=s_mutation(KA,Pv[i-1])\n",
        "    KBb=np.array(KB)\n",
        "    B=Aa ^ KAa ^ KBb#information that is given to Bob\n",
        "    As[i-1]=sum(Aa)\n",
        "    Bs[i-1]=sum(B)\n",
        "    Aesti[i-1]=(Bs[i-1]-N*(1-Pv[i-1]))/(2*Pv[i-1]-1)\n",
        "  return Pv,As,Bs,Aesti\n",
        "\n",
        "def accuracy_calculation(Aesti,As):\n",
        "  dev=abs(Aesti-As)#difference between As and Aesti\n",
        "  acc=1-dev/(0.01*N)#accuracy rate\n",
        "  return acc"
      ]
    },
    {
      "cell_type": "code",
      "execution_count": 6,
      "metadata": {
        "colab": {
          "base_uri": "https://localhost:8080/",
          "height": 551
        },
        "id": "foiH30A6y-aV",
        "outputId": "b22b0b4f-0834-476c-ddff-511a893b513f"
      },
      "outputs": [
        {
          "output_type": "stream",
          "name": "stdout",
          "text": [
            "n= 20\n"
          ]
        },
        {
          "output_type": "stream",
          "name": "stderr",
          "text": [
            "No handles with labels found to put in legend.\n"
          ]
        },
        {
          "output_type": "display_data",
          "data": {
            "image/png": "[encoded data removed]",
            "text/plain": [
              "<Figure size 720x504 with 2 Axes>"
            ]
          },
          "metadata": {
            "needs_background": "light"
          }
        }
      ],
      "source": [
        "#n=int(input(\"please enter an integer(n), which is how many points you want\"))\n",
        "n=20\n",
        "print(\"n=\",n)\n",
        "\n",
        "an=len(av)\n",
        "fig, axs = plt.subplots(an, 1, figsize =(10, 7),sharex=True,tight_layout = True)\n",
        "for i in range(1,(an+1)):\n",
        "  Pv,As,Bs,Aesti=data_gen(n,N,av[i-1])\n",
        "  acc=accuracy_calculation(Aesti,As)\n",
        "  axs[i-1].scatter(Pv,acc)#plot the points\n",
        "  axs[i-1].set_ylabel(\"accuracy\")\n",
        "  axs[i-1].set_xlabel(\"p values\")\n",
        "fig.suptitle(\"accuracy vs p values\") \n",
        "# print(\"p values:\",Pv)\n",
        "# print(\"sum(A) vector:\",As)\n",
        "# #print(\"sum(B) vector:\",Bs)\n",
        "# print(\"estimated sum(A):\",Aesti)\n",
        "\n",
        "# dev=abs(Aesti-As)#difference between As and Aesti\n",
        "# acc=1-dev/As#accuracy rate\n",
        "# acc=accuracy_calculation(Aesti,As)\n",
        "# plt.plot(Pv,acc,color='r',label=a)#plot the points\n",
        "# plt.xlabel(\"p values\")\n",
        "# plt.ylabel(\"accuracy\")\n",
        "# plt.title(\"accuracy vs p values\")\n",
        "plt.legend()#Adding legend, which helps us recognize the curve according to it's color\n",
        "plt.show()\n"
      ]
    }
  ],
  "metadata": {
    "colab": {
      "collapsed_sections": [],
      "name": "301(3).ipynb",
      "provenance": []
    },
    "kernelspec": {
      "display_name": "Python 3",
      "name": "python3"
    },
    "language_info": {
      "name": "python"
    }
  },
  "nbformat": 4,
  "nbformat_minor": 0
}