{
  "nbformat": 4,
  "nbformat_minor": 0,
  "metadata": {
    "colab": {
      "name": "curve_fit.ipynb",
      "provenance": [],
      "collapsed_sections": []
    },
    "kernelspec": {
      "name": "python3",
      "display_name": "Python 3"
    },
    "language_info": {
      "name": "python"
    }
  },
  "cells": [
    {
      "cell_type": "code",
      "execution_count": 1,
      "metadata": {
        "id": "ZmcXfesYz43K",
        "colab": {
          "base_uri": "https://localhost:8080/"
        },
        "outputId": "07e76048-39de-4e47-b0d4-6592fb94ce9d"
      },
      "outputs": [
        {
          "output_type": "stream",
          "name": "stderr",
          "text": [
            "/usr/local/lib/python3.7/dist-packages/statsmodels/tools/_testing.py:19: FutureWarning: pandas.util.testing is deprecated. Use the functions in the public API at pandas.testing instead.\n",
            "  import pandas.util.testing as tm\n"
          ]
        }
      ],
      "source": [
        "import numpy as np\n",
        "from statsmodels.tsa.seasonal import seasonal_decompose\n",
        "from scipy.optimize import curve_fit\n",
        "from datetime import datetime\n",
        "from datetime import timedelta\n",
        "\n",
        "from plotly.subplots import make_subplots\n",
        "import plotly.graph_objects as go\n",
        "\n",
        "#import ruptures as rpt\n",
        "import pandas as pd\n",
        "from sklearn.metrics import r2_score\n",
        "import matplotlib.pyplot as plt\n",
        "#from ruptures.base import BaseCost\n",
        "from scipy.optimize import curve_fit#"
      ]
    },
    {
      "cell_type": "markdown",
      "source": [
        "# New Section"
      ],
      "metadata": {
        "id": "BTfxg2-bIcb8"
      }
    },
    {
      "cell_type": "code",
      "source": [
        "df=pd.read_excel(\"/daily data.xlsx\")\n",
        "df.head()"
      ],
      "metadata": {
        "colab": {
          "base_uri": "https://localhost:8080/",
          "height": 206
        },
        "id": "bYimBc3k0Is0",
        "outputId": "c1bff06f-0a6a-46de-8d91-1c6d3e632343"
      },
      "execution_count": 2,
      "outputs": [
        {
          "output_type": "execute_result",
          "data": {
            "text/html": [
              "\n",
              "  <div id=\"df-b1583035-19c5-462b-aab4-bb400df503e7\">\n",
              "    <div class=\"colab-df-container\">\n",
              "      <div>\n",
              "<style scoped>\n",
              "    .dataframe tbody tr th:only-of-type {\n",
              "        vertical-align: middle;\n",
              "    }\n",
              "\n",
              "    .dataframe tbody tr th {\n",
              "        vertical-align: top;\n",
              "    }\n",
              "\n",
              "    .dataframe thead th {\n",
              "        text-align: right;\n",
              "    }\n",
              "</style>\n",
              "<table border=\"1\" class=\"dataframe\">\n",
              "  <thead>\n",
              "    <tr style=\"text-align: right;\">\n",
              "      <th></th>\n",
              "      <th>Sum of kWh total</th>\n",
              "      <th>Average of wbt</th>\n",
              "    </tr>\n",
              "  </thead>\n",
              "  <tbody>\n",
              "    <tr>\n",
              "      <th>0</th>\n",
              "      <td>289.036821</td>\n",
              "      <td>63.044850</td>\n",
              "    </tr>\n",
              "    <tr>\n",
              "      <th>1</th>\n",
              "      <td>316.529866</td>\n",
              "      <td>68.692033</td>\n",
              "    </tr>\n",
              "    <tr>\n",
              "      <th>2</th>\n",
              "      <td>310.562349</td>\n",
              "      <td>73.974504</td>\n",
              "    </tr>\n",
              "    <tr>\n",
              "      <th>3</th>\n",
              "      <td>311.418967</td>\n",
              "      <td>71.274783</td>\n",
              "    </tr>\n",
              "    <tr>\n",
              "      <th>4</th>\n",
              "      <td>313.531853</td>\n",
              "      <td>70.010379</td>\n",
              "    </tr>\n",
              "  </tbody>\n",
              "</table>\n",
              "</div>\n",
              "      <button class=\"colab-df-convert\" onclick=\"convertToInteractive('df-b1583035-19c5-462b-aab4-bb400df503e7')\"\n",
              "              title=\"Convert this dataframe to an interactive table.\"\n",
              "              style=\"display:none;\">\n",
              "        \n",
              "  <svg xmlns=\"http://www.w3.org/2000/svg\" height=\"24px\"viewBox=\"0 0 24 24\"\n",
              "       width=\"24px\">\n",
              "    <path d=\"M0 0h24v24H0V0z\" fill=\"none\"/>\n",
              "    <path d=\"M18.56 5.44l.94 2.06.94-2.06 2.06-.94-2.06-.94-.94-2.06-.94 2.06-2.06.94zm-11 1L8.5 8.5l.94-2.06 2.06-.94-2.06-.94L8.5 2.5l-.94 2.06-2.06.94zm10 10l.94 2.06.94-2.06 2.06-.94-2.06-.94-.94-2.06-.94 2.06-2.06.94z\"/><path d=\"M17.41 7.96l-1.37-1.37c-.4-.4-.92-.59-1.43-.59-.52 0-1.04.2-1.43.59L10.3 9.45l-7.72 7.72c-.78.78-.78 2.05 0 2.83L4 21.41c.39.39.9.59 1.41.59.51 0 1.02-.2 1.41-.59l7.78-7.78 2.81-2.81c.8-.78.8-2.07 0-2.86zM5.41 20L4 18.59l7.72-7.72 1.47 1.35L5.41 20z\"/>\n",
              "  </svg>\n",
              "      </button>\n",
              "      \n",
              "  <style>\n",
              "    .colab-df-container {\n",
              "      display:flex;\n",
              "      flex-wrap:wrap;\n",
              "      gap: 12px;\n",
              "    }\n",
              "\n",
              "    .colab-df-convert {\n",
              "      background-color: #E8F0FE;\n",
              "      border: none;\n",
              "      border-radius: 50%;\n",
              "      cursor: pointer;\n",
              "      display: none;\n",
              "      fill: #1967D2;\n",
              "      height: 32px;\n",
              "      padding: 0 0 0 0;\n",
              "      width: 32px;\n",
              "    }\n",
              "\n",
              "    .colab-df-convert:hover {\n",
              "      background-color: #E2EBFA;\n",
              "      box-shadow: 0px 1px 2px rgba(60, 64, 67, 0.3), 0px 1px 3px 1px rgba(60, 64, 67, 0.15);\n",
              "      fill: #174EA6;\n",
              "    }\n",
              "\n",
              "    [theme=dark] .colab-df-convert {\n",
              "      background-color: #3B4455;\n",
              "      fill: #D2E3FC;\n",
              "    }\n",
              "\n",
              "    [theme=dark] .colab-df-convert:hover {\n",
              "      background-color: #434B5C;\n",
              "      box-shadow: 0px 1px 3px 1px rgba(0, 0, 0, 0.15);\n",
              "      filter: drop-shadow(0px 1px 2px rgba(0, 0, 0, 0.3));\n",
              "      fill: #FFFFFF;\n",
              "    }\n",
              "  </style>\n",
              "\n",
              "      <script>\n",
              "        const buttonEl =\n",
              "          document.querySelector('#df-b1583035-19c5-462b-aab4-bb400df503e7 button.colab-df-convert');\n",
              "        buttonEl.style.display =\n",
              "          google.colab.kernel.accessAllowed ? 'block' : 'none';\n",
              "\n",
              "        async function convertToInteractive(key) {\n",
              "          const element = document.querySelector('#df-b1583035-19c5-462b-aab4-bb400df503e7');\n",
              "          const dataTable =\n",
              "            await google.colab.kernel.invokeFunction('convertToInteractive',\n",
              "                                                     [key], {});\n",
              "          if (!dataTable) return;\n",
              "\n",
              "          const docLinkHtml = 'Like what you see? Visit the ' +\n",
              "            '<a target=\"_blank\" href=https://colab.research.google.com/notebooks/data_table.ipynb>data table notebook</a>'\n",
              "            + ' to learn more about interactive tables.';\n",
              "          element.innerHTML = '';\n",
              "          dataTable['output_type'] = 'display_data';\n",
              "          await google.colab.output.renderOutput(dataTable, element);\n",
              "          const docLink = document.createElement('div');\n",
              "          docLink.innerHTML = docLinkHtml;\n",
              "          element.appendChild(docLink);\n",
              "        }\n",
              "      </script>\n",
              "    </div>\n",
              "  </div>\n",
              "  "
            ],
            "text/plain": [
              "   Sum of kWh total  Average of wbt\n",
              "0        289.036821       63.044850\n",
              "1        316.529866       68.692033\n",
              "2        310.562349       73.974504\n",
              "3        311.418967       71.274783\n",
              "4        313.531853       70.010379"
            ]
          },
          "metadata": {},
          "execution_count": 2
        }
      ]
    },
    {
      "cell_type": "code",
      "source": [
        "def three_pc(x, m2, xcp1):#what we will be using\n",
        "    \"\"\" Function to fit a 3PC model using numpy.\n",
        "    Args:\n",
        "        x (numpy.array): Independent variable.\n",
        "        ycp (float): Y Intercept.\n",
        "        m2 (float): Slope.\n",
        "        xcp1 (float): Changepoint.\n",
        "    Returns:\n",
        "         Predicted dependent variable (numpy.array).\n",
        "    \"\"\"\n",
        "    return(\n",
        "    (x < xcp1) * (0) +\n",
        "    (x >= xcp1) * (m2*(x - xcp1) + 0))"
      ],
      "metadata": {
        "id": "VthLjUkG0hju"
      },
      "execution_count": 3,
      "outputs": []
    },
    {
      "cell_type": "code",
      "source": [
        "def four_p(x, ycp, m1, m2, xcp1):\n",
        "    \"\"\" Function to fit a 4P model using numpy.\n",
        "    Args:\n",
        "        x (numpy.array): Independent variable.\n",
        "        ycp (float): Y Intercept.\n",
        "        m1 (float): Left slope.\n",
        "        m2 (float): Right slope.\n",
        "        xcp1 (float): Changepoint.\n",
        "    Returns:\n",
        "         Predicted dependent variable (numpy.array).\n",
        "    \"\"\"\n",
        "    return(\n",
        "    (x < xcp1) * (m1*(x-xcp1) + ycp) +\n",
        "    (x >= xcp1) * (m2*(x - xcp1) + ycp))"
      ],
      "metadata": {
        "id": "P_IS2DHUf5Z7"
      },
      "execution_count": null,
      "outputs": []
    },
    {
      "cell_type": "code",
      "source": [
        "def two_change(x,m1,xcp1,xcp2):\n",
        "  # sol=0\n",
        "  # if x<xcp1:\n",
        "  #   sol=ycp\n",
        "  # else:\n",
        "  #   if x<xcp2:\n",
        "  #     sol=(m1*(x - xcp1) + ycp\n",
        "    \n",
        "  #   if x>xcp2:\n",
        "  #     sol=m1*(xcp2-xcp1)+ycp\n",
        "  # return sol\n",
        "\n",
        "  return(\n",
        "      (x<xcp1)*0+\n",
        "      ((xcp1<=x) & (x<xcp2))*((m1*(x - xcp1)+0 ))+\n",
        "      (x>=xcp2)*(m1*(xcp2-xcp1)+0)\n",
        "  )"
      ],
      "metadata": {
        "id": "QJTq9OgIHQwd"
      },
      "execution_count": 4,
      "outputs": []
    },
    {
      "cell_type": "code",
      "source": [
        "temp=df['Average of wbt']\n",
        "temp=temp.to_numpy()\n",
        "pkwh=df['Sum of kWh total']\n",
        "pkwh=pkwh.to_numpy()\n",
        "\n",
        "popt, pcov= curve_fit(three_pc, temp, pkwh)\n",
        "#model type is 3pc you define previously, do not need to put in any parameter\n",
        "plt.plot(temp, three_pc(temp, *popt), 'g--',\n",
        "         label='fit: b=%5.3f, c=%5.3f' % tuple(popt))\n",
        "plt.scatter(temp,pkwh)\n",
        "plt.xlabel(\"wbt in F\")\n",
        "plt.ylabel(\"sum of kwh total\")\n",
        "plt.legend()\n",
        "plt.show()\n",
        "\n",
        "pcov"
      ],
      "metadata": {
        "colab": {
          "base_uri": "https://localhost:8080/",
          "height": 315
        },
        "id": "-VQ6zBGs2n19",
        "outputId": "e9f8531a-7638-42fc-c11d-bcdf9913402c"
      },
      "execution_count": 5,
      "outputs": [
        {
          "output_type": "display_data",
          "data": {
            "image/png": "[encoded data removed]",
            "text/plain": [
              "<Figure size 432x288 with 1 Axes>"
            ]
          },
          "metadata": {
            "needs_background": "light"
          }
        },
        {
          "output_type": "execute_result",
          "data": {
            "text/plain": [
              "array([[0.2112974 , 0.47951281],\n",
              "       [0.47951281, 1.2624206 ]])"
            ]
          },
          "metadata": {},
          "execution_count": 5
        }
      ]
    },
    {
      "cell_type": "code",
      "source": [
        "popt1, pcov1= curve_fit(two_change, temp, pkwh,p0=np.array([10,41,65]))\n",
        "plt.plot(np.linspace(35,70), two_change(np.linspace(35,70), *popt1), 'g--',\n",
        "         label='fit: b=%5.3f, c=%5.3f,d=%5.3f' % tuple(popt1))\n",
        "plt.scatter(temp,pkwh)\n",
        "plt.xlabel(\"wbt in F\")\n",
        "plt.ylabel(\"sum of kwh total\")\n",
        "plt.legend()\n",
        "plt.show()\n",
        "\n",
        "pcov1\n",
        "\n"
      ],
      "metadata": {
        "colab": {
          "base_uri": "https://localhost:8080/",
          "height": 334
        },
        "id": "FP4XtImghjnU",
        "outputId": "9c27ffa2-d6fe-4629-9b88-67b9ebdf28b9"
      },
      "execution_count": 6,
      "outputs": [
        {
          "output_type": "display_data",
          "data": {
            "image/png": "[encoded data removed]",
            "text/plain": [
              "<Figure size 432x288 with 1 Axes>"
            ]
          },
          "metadata": {
            "needs_background": "light"
          }
        },
        {
          "output_type": "execute_result",
          "data": {
            "text/plain": [
              "array([[ 0.71598473,  0.6220248 , -0.34159581],\n",
              "       [ 0.6220248 ,  0.62942724, -0.20773576],\n",
              "       [-0.34159581, -0.20773576,  0.34861597]])"
            ]
          },
          "metadata": {},
          "execution_count": 6
        }
      ]
    },
    {
      "cell_type": "code",
      "source": [
        "# h2=df['hours T2']\n",
        "# h2=h2.to_numpy()\n",
        "\n",
        "# popt1, pcov1= curve_fit(three_pc, temp, h2,p0=np.array([0.437,0.022,41]))\n",
        "# plt.plot(temp, three_pc(temp, *popt1), 'g--',\n",
        "#          label='fit: a=%5.3f, b=%5.3f, c=%5.3f' % tuple(popt))\n",
        "# plt.scatter(temp,h2)\n",
        "# plt.xlabel(\"wbt in F\")\n",
        "# plt.ylabel(\"hours t2\")\n",
        "# plt.legend()\n",
        "# plt.show()\n",
        "\n",
        "# pcov1"
      ],
      "metadata": {
        "id": "9m5b0Y1Y3qq6"
      },
      "execution_count": null,
      "outputs": []
    }
  ]
}